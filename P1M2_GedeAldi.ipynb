{
 "cells": [
  {
   "cell_type": "markdown",
   "metadata": {},
   "source": [
    "### PERKENALAN\n",
    "\n",
    "- Nama : Gede Aldi \n",
    "- Batch : RMT-29\n",
    "\n",
    "> Objective yang ingin saya capai disini adalah untuk melihat : \n",
    "> 1. Bagaimanakah perilaku dari pelanggan apakah akan melakukan bank term deposit atau tidak?\n",
    "\n",
    "> 2. Bagaimanakah karakteristik dari pelanggan yang kita punya?\n",
    "\n",
    "> 3. Apakah klasifikasi model terbaik yang dapat memprediksi pelanggan akan melakukan bank term deposit atau tidak?\n",
    "\n",
    "> 4. Apakah hyperparameter tuning dapat menambah akurasi dari model?"
   ]
  },
  {
   "cell_type": "markdown",
   "metadata": {},
   "source": [
    "### IMPORT LIBRARIES"
   ]
  },
  {
   "cell_type": "code",
   "execution_count": 50,
   "metadata": {},
   "outputs": [],
   "source": [
    "import pandas as pd \n",
    "import matplotlib.pyplot as plt\n",
    "import seaborn as sns\n",
    "\n",
    "from sklearn.model_selection import train_test_split\n",
    "from scipy.stats import chi2_contingency\n",
    "from scipy.stats import f_oneway\n",
    "from feature_engine.outliers import Winsorizer\n",
    "from sklearn.preprocessing import MinMaxScaler, OrdinalEncoder, LabelEncoder\n",
    "from sklearn.pipeline import Pipeline\n",
    "from sklearn.impute import SimpleImputer\n",
    "from sklearn.compose import ColumnTransformer\n",
    "from sklearn.neighbors import KNeighborsClassifier\n",
    "from sklearn.tree import DecisionTreeClassifier\n",
    "from xgboost import XGBClassifier\n",
    "from sklearn.ensemble import RandomForestClassifier\n",
    "from sklearn.model_selection import GridSearchCV\n",
    "from sklearn.metrics import classification_report, ConfusionMatrixDisplay, f1_score, accuracy_score\n",
    "from sklearn.svm import SVC\n",
    "import joblib"
   ]
  },
  {
   "cell_type": "code",
   "execution_count": 3,
   "metadata": {},
   "outputs": [
    {
     "data": {
      "text/html": [
       "<div>\n",
       "<style scoped>\n",
       "    .dataframe tbody tr th:only-of-type {\n",
       "        vertical-align: middle;\n",
       "    }\n",
       "\n",
       "    .dataframe tbody tr th {\n",
       "        vertical-align: top;\n",
       "    }\n",
       "\n",
       "    .dataframe thead th {\n",
       "        text-align: right;\n",
       "    }\n",
       "</style>\n",
       "<table border=\"1\" class=\"dataframe\">\n",
       "  <thead>\n",
       "    <tr style=\"text-align: right;\">\n",
       "      <th></th>\n",
       "      <th>age</th>\n",
       "      <th>job</th>\n",
       "      <th>marital</th>\n",
       "      <th>education</th>\n",
       "      <th>default</th>\n",
       "      <th>balance</th>\n",
       "      <th>housing</th>\n",
       "      <th>loan</th>\n",
       "      <th>contact</th>\n",
       "      <th>day</th>\n",
       "      <th>month</th>\n",
       "      <th>duration</th>\n",
       "      <th>campaign</th>\n",
       "      <th>pdays</th>\n",
       "      <th>previous</th>\n",
       "      <th>poutcome</th>\n",
       "      <th>y</th>\n",
       "    </tr>\n",
       "  </thead>\n",
       "  <tbody>\n",
       "    <tr>\n",
       "      <th>0</th>\n",
       "      <td>30</td>\n",
       "      <td>unemployed</td>\n",
       "      <td>married</td>\n",
       "      <td>primary</td>\n",
       "      <td>no</td>\n",
       "      <td>1787</td>\n",
       "      <td>no</td>\n",
       "      <td>no</td>\n",
       "      <td>cellular</td>\n",
       "      <td>19</td>\n",
       "      <td>oct</td>\n",
       "      <td>79</td>\n",
       "      <td>1</td>\n",
       "      <td>-1</td>\n",
       "      <td>0</td>\n",
       "      <td>unknown</td>\n",
       "      <td>no</td>\n",
       "    </tr>\n",
       "    <tr>\n",
       "      <th>1</th>\n",
       "      <td>33</td>\n",
       "      <td>services</td>\n",
       "      <td>married</td>\n",
       "      <td>secondary</td>\n",
       "      <td>no</td>\n",
       "      <td>4789</td>\n",
       "      <td>yes</td>\n",
       "      <td>yes</td>\n",
       "      <td>cellular</td>\n",
       "      <td>11</td>\n",
       "      <td>may</td>\n",
       "      <td>220</td>\n",
       "      <td>1</td>\n",
       "      <td>339</td>\n",
       "      <td>4</td>\n",
       "      <td>failure</td>\n",
       "      <td>no</td>\n",
       "    </tr>\n",
       "    <tr>\n",
       "      <th>2</th>\n",
       "      <td>35</td>\n",
       "      <td>management</td>\n",
       "      <td>single</td>\n",
       "      <td>tertiary</td>\n",
       "      <td>no</td>\n",
       "      <td>1350</td>\n",
       "      <td>yes</td>\n",
       "      <td>no</td>\n",
       "      <td>cellular</td>\n",
       "      <td>16</td>\n",
       "      <td>apr</td>\n",
       "      <td>185</td>\n",
       "      <td>1</td>\n",
       "      <td>330</td>\n",
       "      <td>1</td>\n",
       "      <td>failure</td>\n",
       "      <td>no</td>\n",
       "    </tr>\n",
       "    <tr>\n",
       "      <th>3</th>\n",
       "      <td>30</td>\n",
       "      <td>management</td>\n",
       "      <td>married</td>\n",
       "      <td>tertiary</td>\n",
       "      <td>no</td>\n",
       "      <td>1476</td>\n",
       "      <td>yes</td>\n",
       "      <td>yes</td>\n",
       "      <td>unknown</td>\n",
       "      <td>3</td>\n",
       "      <td>jun</td>\n",
       "      <td>199</td>\n",
       "      <td>4</td>\n",
       "      <td>-1</td>\n",
       "      <td>0</td>\n",
       "      <td>unknown</td>\n",
       "      <td>no</td>\n",
       "    </tr>\n",
       "    <tr>\n",
       "      <th>4</th>\n",
       "      <td>59</td>\n",
       "      <td>blue-collar</td>\n",
       "      <td>married</td>\n",
       "      <td>secondary</td>\n",
       "      <td>no</td>\n",
       "      <td>0</td>\n",
       "      <td>yes</td>\n",
       "      <td>no</td>\n",
       "      <td>unknown</td>\n",
       "      <td>5</td>\n",
       "      <td>may</td>\n",
       "      <td>226</td>\n",
       "      <td>1</td>\n",
       "      <td>-1</td>\n",
       "      <td>0</td>\n",
       "      <td>unknown</td>\n",
       "      <td>no</td>\n",
       "    </tr>\n",
       "    <tr>\n",
       "      <th>...</th>\n",
       "      <td>...</td>\n",
       "      <td>...</td>\n",
       "      <td>...</td>\n",
       "      <td>...</td>\n",
       "      <td>...</td>\n",
       "      <td>...</td>\n",
       "      <td>...</td>\n",
       "      <td>...</td>\n",
       "      <td>...</td>\n",
       "      <td>...</td>\n",
       "      <td>...</td>\n",
       "      <td>...</td>\n",
       "      <td>...</td>\n",
       "      <td>...</td>\n",
       "      <td>...</td>\n",
       "      <td>...</td>\n",
       "      <td>...</td>\n",
       "    </tr>\n",
       "    <tr>\n",
       "      <th>4516</th>\n",
       "      <td>33</td>\n",
       "      <td>services</td>\n",
       "      <td>married</td>\n",
       "      <td>secondary</td>\n",
       "      <td>no</td>\n",
       "      <td>-333</td>\n",
       "      <td>yes</td>\n",
       "      <td>no</td>\n",
       "      <td>cellular</td>\n",
       "      <td>30</td>\n",
       "      <td>jul</td>\n",
       "      <td>329</td>\n",
       "      <td>5</td>\n",
       "      <td>-1</td>\n",
       "      <td>0</td>\n",
       "      <td>unknown</td>\n",
       "      <td>no</td>\n",
       "    </tr>\n",
       "    <tr>\n",
       "      <th>4517</th>\n",
       "      <td>57</td>\n",
       "      <td>self-employed</td>\n",
       "      <td>married</td>\n",
       "      <td>tertiary</td>\n",
       "      <td>yes</td>\n",
       "      <td>-3313</td>\n",
       "      <td>yes</td>\n",
       "      <td>yes</td>\n",
       "      <td>unknown</td>\n",
       "      <td>9</td>\n",
       "      <td>may</td>\n",
       "      <td>153</td>\n",
       "      <td>1</td>\n",
       "      <td>-1</td>\n",
       "      <td>0</td>\n",
       "      <td>unknown</td>\n",
       "      <td>no</td>\n",
       "    </tr>\n",
       "    <tr>\n",
       "      <th>4518</th>\n",
       "      <td>57</td>\n",
       "      <td>technician</td>\n",
       "      <td>married</td>\n",
       "      <td>secondary</td>\n",
       "      <td>no</td>\n",
       "      <td>295</td>\n",
       "      <td>no</td>\n",
       "      <td>no</td>\n",
       "      <td>cellular</td>\n",
       "      <td>19</td>\n",
       "      <td>aug</td>\n",
       "      <td>151</td>\n",
       "      <td>11</td>\n",
       "      <td>-1</td>\n",
       "      <td>0</td>\n",
       "      <td>unknown</td>\n",
       "      <td>no</td>\n",
       "    </tr>\n",
       "    <tr>\n",
       "      <th>4519</th>\n",
       "      <td>28</td>\n",
       "      <td>blue-collar</td>\n",
       "      <td>married</td>\n",
       "      <td>secondary</td>\n",
       "      <td>no</td>\n",
       "      <td>1137</td>\n",
       "      <td>no</td>\n",
       "      <td>no</td>\n",
       "      <td>cellular</td>\n",
       "      <td>6</td>\n",
       "      <td>feb</td>\n",
       "      <td>129</td>\n",
       "      <td>4</td>\n",
       "      <td>211</td>\n",
       "      <td>3</td>\n",
       "      <td>other</td>\n",
       "      <td>no</td>\n",
       "    </tr>\n",
       "    <tr>\n",
       "      <th>4520</th>\n",
       "      <td>44</td>\n",
       "      <td>entrepreneur</td>\n",
       "      <td>single</td>\n",
       "      <td>tertiary</td>\n",
       "      <td>no</td>\n",
       "      <td>1136</td>\n",
       "      <td>yes</td>\n",
       "      <td>yes</td>\n",
       "      <td>cellular</td>\n",
       "      <td>3</td>\n",
       "      <td>apr</td>\n",
       "      <td>345</td>\n",
       "      <td>2</td>\n",
       "      <td>249</td>\n",
       "      <td>7</td>\n",
       "      <td>other</td>\n",
       "      <td>no</td>\n",
       "    </tr>\n",
       "  </tbody>\n",
       "</table>\n",
       "<p>4521 rows × 17 columns</p>\n",
       "</div>"
      ],
      "text/plain": [
       "      age            job  marital  education default  balance housing loan  \\\n",
       "0      30     unemployed  married    primary      no     1787      no   no   \n",
       "1      33       services  married  secondary      no     4789     yes  yes   \n",
       "2      35     management   single   tertiary      no     1350     yes   no   \n",
       "3      30     management  married   tertiary      no     1476     yes  yes   \n",
       "4      59    blue-collar  married  secondary      no        0     yes   no   \n",
       "...   ...            ...      ...        ...     ...      ...     ...  ...   \n",
       "4516   33       services  married  secondary      no     -333     yes   no   \n",
       "4517   57  self-employed  married   tertiary     yes    -3313     yes  yes   \n",
       "4518   57     technician  married  secondary      no      295      no   no   \n",
       "4519   28    blue-collar  married  secondary      no     1137      no   no   \n",
       "4520   44   entrepreneur   single   tertiary      no     1136     yes  yes   \n",
       "\n",
       "       contact  day month  duration  campaign  pdays  previous poutcome   y  \n",
       "0     cellular   19   oct        79         1     -1         0  unknown  no  \n",
       "1     cellular   11   may       220         1    339         4  failure  no  \n",
       "2     cellular   16   apr       185         1    330         1  failure  no  \n",
       "3      unknown    3   jun       199         4     -1         0  unknown  no  \n",
       "4      unknown    5   may       226         1     -1         0  unknown  no  \n",
       "...        ...  ...   ...       ...       ...    ...       ...      ...  ..  \n",
       "4516  cellular   30   jul       329         5     -1         0  unknown  no  \n",
       "4517   unknown    9   may       153         1     -1         0  unknown  no  \n",
       "4518  cellular   19   aug       151        11     -1         0  unknown  no  \n",
       "4519  cellular    6   feb       129         4    211         3    other  no  \n",
       "4520  cellular    3   apr       345         2    249         7    other  no  \n",
       "\n",
       "[4521 rows x 17 columns]"
      ]
     },
     "execution_count": 3,
     "metadata": {},
     "output_type": "execute_result"
    }
   ],
   "source": [
    "df = pd.read_csv(r'C:\\Users\\User\\github-classroom\\FTDS-assignment-bay\\p1-ftds029-rmt-m2-gedealdi28\\bank.csv',sep=';')\n",
    "df"
   ]
  },
  {
   "cell_type": "markdown",
   "metadata": {},
   "source": [
    "Terlihat bahwa data yang kita punya itu mempunyai 4500 baris dan 17 kolom selanjutnya akan dilakukan eksplorasi data apakah terdapat missing value atau duplikat"
   ]
  },
  {
   "cell_type": "code",
   "execution_count": 4,
   "metadata": {},
   "outputs": [
    {
     "name": "stdout",
     "output_type": "stream",
     "text": [
      "<class 'pandas.core.frame.DataFrame'>\n",
      "RangeIndex: 4521 entries, 0 to 4520\n",
      "Data columns (total 17 columns):\n",
      " #   Column     Non-Null Count  Dtype \n",
      "---  ------     --------------  ----- \n",
      " 0   age        4521 non-null   int64 \n",
      " 1   job        4521 non-null   object\n",
      " 2   marital    4521 non-null   object\n",
      " 3   education  4521 non-null   object\n",
      " 4   default    4521 non-null   object\n",
      " 5   balance    4521 non-null   int64 \n",
      " 6   housing    4521 non-null   object\n",
      " 7   loan       4521 non-null   object\n",
      " 8   contact    4521 non-null   object\n",
      " 9   day        4521 non-null   int64 \n",
      " 10  month      4521 non-null   object\n",
      " 11  duration   4521 non-null   int64 \n",
      " 12  campaign   4521 non-null   int64 \n",
      " 13  pdays      4521 non-null   int64 \n",
      " 14  previous   4521 non-null   int64 \n",
      " 15  poutcome   4521 non-null   object\n",
      " 16  y          4521 non-null   object\n",
      "dtypes: int64(7), object(10)\n",
      "memory usage: 600.6+ KB\n"
     ]
    }
   ],
   "source": [
    "df.info()"
   ]
  },
  {
   "cell_type": "markdown",
   "metadata": {},
   "source": [
    "Berikut adalah penjelasan dari tiap kolomnya\n",
    "   1. age (numeric)\n",
    "   2. job : type of job (categorical: \"admin.\",\"unknown\",\"unemployed\",\"management\",\"housemaid\",\"entrepreneur\",\"student\",\n",
    "                                       \"blue-collar\",\"self-employed\",\"retired\",\"technician\",\"services\") \n",
    "   3. marital : marital status (categorical: \"married\",\"divorced\",\"single\"; note: \"divorced\" means divorced or widowed)\n",
    "   4. education (categorical: \"unknown\",\"secondary\",\"primary\",\"tertiary\")\n",
    "   5. default: has credit in default? (binary: \"yes\",\"no\")\n",
    "   6. balance: average yearly balance, in euros (numeric) \n",
    "   7. housing: has housing loan? (binary: \"yes\",\"no\")\n",
    "   8. loan: has personal loan? (binary: \"yes\",\"no\") related with the last contact of the current campaign:\n",
    "   9.  contact: contact communication type (categorical: \"unknown\",\"telephone\",\"cellular\") \n",
    "  10.  day: last contact day of the month (numeric)\n",
    "  11.  month: last contact month of year (categorical: \"jan\", \"feb\", \"mar\", ..., \"nov\", \"dec\")\n",
    "  12.  duration: last contact duration, in seconds (numeric)\n",
    "  13.  campaign: number of contacts performed during this campaign and for this client (numeric, includes last contact)\n",
    "  14.  pdays: number of days that passed by after the client was last contacted from a previous campaign (numeric, -1 means client was not previously contacted)\n",
    "  15.  previous: number of contacts performed before this campaign and for this client (numeric)\n",
    "  16.  poutcome: outcome of the previous marketing campaign (categorical: \"unknown\",\"other\",\"failure\",\"success\")"
   ]
  },
  {
   "cell_type": "code",
   "execution_count": 5,
   "metadata": {},
   "outputs": [
    {
     "name": "stdout",
     "output_type": "stream",
     "text": [
      "Jumlah Duplikat: 0\n"
     ]
    }
   ],
   "source": [
    "print('Jumlah Duplikat:',df.duplicated().sum()) # menampilkan jumlah duplikat"
   ]
  },
  {
   "cell_type": "markdown",
   "metadata": {},
   "source": [
    " Jumlah duplikat di data ini adalah 0 sehingga selanjutnya akan dilakukan eksplorasi visualisasi data untuk melihat bagaimana karakteristik dari pelanggan sehingga nantinya kita bisa melakukan evaluasi apakah pelanggan tersebut akan melakukan bank term deposit atau tidak"
   ]
  },
  {
   "cell_type": "markdown",
   "metadata": {},
   "source": [
    "### EXPLORATORY DATA ANALYSIS"
   ]
  },
  {
   "cell_type": "code",
   "execution_count": 64,
   "metadata": {},
   "outputs": [
    {
     "data": {
      "image/png": "[encoded data removed]",
      "text/plain": [
       "<Figure size 640x480 with 1 Axes>"
      ]
     },
     "metadata": {},
     "output_type": "display_data"
    }
   ],
   "source": [
    "plt.hist(df['age'], bins=20, color='skyblue')\n",
    "plt.xlabel('Age')\n",
    "plt.ylabel('Frequency')\n",
    "plt.title('Distribusi Umur')\n",
    "plt.show()"
   ]
  },
  {
   "cell_type": "markdown",
   "metadata": {},
   "source": [
    "Untuk gambar pertama kita akan melihat bagaimana distribusi pelanggan berdasarkan umurnya terlihat bahwa pelanggan itu rata-rata berada pada umur 25 hingga 55. Dan umur terbanyak pelanggan jatuh pada umur sebelum persis 40 tahun dimana pada umur ini pelanggan berjumlah hingga lebih dari 600. Lalu terdapat juga Beberapa pelanggan yang berada di umur 70 hingga 80 tetapi jumlahnya tidak terlalu banyak yaitu kurang dari 100"
   ]
  },
  {
   "cell_type": "code",
   "execution_count": 69,
   "metadata": {},
   "outputs": [
    {
     "data": {
      "image/png": "[encoded data removed]",
      "text/plain": [
       "<Figure size 800x600 with 1 Axes>"
      ]
     },
     "metadata": {},
     "output_type": "display_data"
    }
   ],
   "source": [
    "plt.figure(figsize=(8, 6))\n",
    "sns.scatterplot(x='age', y='balance', hue='default', data=df, palette='coolwarm')\n",
    "plt.xlabel('Age')\n",
    "plt.ylabel('Balance')\n",
    "plt.title('Balance dan hubungannya dengan umur')\n",
    "plt.legend(title='Default')\n",
    "plt.show()"
   ]
  },
  {
   "cell_type": "markdown",
   "metadata": {},
   "source": [
    "Lalu kita akan melihat bagaimana hubungan dari umur dan apakah pelanggan tersebut berkata iya atau tidak terhadap investasi yang ditawarkan oleh bank, terlihat bahwa kebanyakan pelanggan itu berkata tidak dan menolak. Dan hanya beberapa yang terlihat menerima tawaran di umur-umur tertentu seperti umur 50 hingga 60 tahun. Hal ini mungkin dikarenakan di umur-umur segini banyak uang yang sudah dihasilkan tetapi di umur segini baru banyak yang kepikiran atau mempunyai uang diinvestasikan"
   ]
  },
  {
   "cell_type": "code",
   "execution_count": 66,
   "metadata": {},
   "outputs": [
    {
     "data": {
      "image/png": "[encoded data removed]",
      "text/plain": [
       "<Figure size 640x480 with 1 Axes>"
      ]
     },
     "metadata": {},
     "output_type": "display_data"
    }
   ],
   "source": [
    "marital_counts = df['marital'].value_counts()\n",
    "plt.pie(marital_counts, labels=marital_counts.index, autopct='%1.1f%%', colors=['lightgreen', 'lightblue', 'lightcoral'])\n",
    "plt.title('Marital Status Distribution')\n",
    "plt.show()"
   ]
  },
  {
   "cell_type": "markdown",
   "metadata": {},
   "source": [
    " Lalu jika kita melihat bagaimana status pernikahan pelanggan, terlihat bahwa 61,9% dari pelanggan merupakan pelanggan yang sudah menikah. . Dan 26,5% nya itu masih single. Dan 11,7% pelanggan itu sudah bercerai. Dari sebaran ini bisa terlihat bahwa pelanggan yang sudah menikah biasanya rata-rata memiliki uang tabungan yang lebih banyak jika akan diinvestasikan sehingga tawaran kita mungkin akan lebih diterima oleh golongan ini daripada golongan yang lain"
   ]
  },
  {
   "cell_type": "code",
   "execution_count": 67,
   "metadata": {},
   "outputs": [
    {
     "data": {
      "image/png": "[encoded data removed]",
      "text/plain": [
       "<Figure size 640x480 with 1 Axes>"
      ]
     },
     "metadata": {},
     "output_type": "display_data"
    }
   ],
   "source": [
    "education_counts = df['education'].value_counts()\n",
    "plt.bar(education_counts.index, education_counts.values, color='salmon')\n",
    "plt.xlabel('Education Level')\n",
    "plt.ylabel('Count')\n",
    "plt.title('Education Level Distribution')\n",
    "plt.xticks(rotation=45)\n",
    "plt.show()"
   ]
  },
  {
   "cell_type": "markdown",
   "metadata": {},
   "source": [
    " Jika kita melihat dari distribusi pelanggan berdasarkan tingkat edukasinya terlihat bahwa pelanggan itu rata-rata menempuh pendidikan tingkat sekunder. Di mana itu adalah tingkat SMA dan belum melanjutkan ke perguruan tinggi Hal ini mungkin bisa menggambarkan Kenapa banyak pelanggan yang Menolak adanya investasi karena belum punya uang yang terlalu banyak. Lalu golongan pelanggan kedua yang terbanyak adalah pelanggan yang masih menempuh pendidikan tingkat tersier atau sedang dan sudah melewati perguruan tinggi. Di mana terdapat lebih dari 1000 dan kurang dari 1500 orang ada pada di golongan ini. Untuk dari itu golongan ini seharusnya sudah mempunyai kemampuan untuk menghasilkan sehingga mempunyai kecenderungan untuk berinvestasi. Tetapi mungkin karena kurangnya penawaran yang baik dari kita sehingga menyebabkan banyak yang penolak tawaran ini. Selanjutnya akan dilakukan feature engineering untuk melakukan seleksi fitur (variabel independen) yang digunakan dalam model training"
   ]
  },
  {
   "cell_type": "markdown",
   "metadata": {},
   "source": [
    "### FEATURE ENGINEERING"
   ]
  },
  {
   "cell_type": "code",
   "execution_count": 6,
   "metadata": {},
   "outputs": [],
   "source": [
    "X = df.drop('y',axis=1)\n",
    "y= df[['y']]"
   ]
  },
  {
   "cell_type": "code",
   "execution_count": 7,
   "metadata": {},
   "outputs": [
    {
     "name": "stdout",
     "output_type": "stream",
     "text": [
      "Data Numerik: ['age', 'balance', 'day', 'duration', 'campaign', 'pdays', 'previous']\n",
      "Data Kategorik: ['job', 'marital', 'education', 'default', 'housing', 'loan', 'contact', 'month', 'poutcome']\n"
     ]
    }
   ],
   "source": [
    "num = X.select_dtypes(exclude=['object']).columns.tolist()\n",
    "kat = X.select_dtypes(include=['object']).columns.tolist()\n",
    "\n",
    "print('Data Numerik:',num)\n",
    "print('Data Kategorik:',kat)"
   ]
  },
  {
   "cell_type": "markdown",
   "metadata": {},
   "source": [
    "Pertama-tama akan dibagi data menjadi data numerik dan juga data kategorik untuk melihat bagaimana korelasinya dengan y atau kolom variabel dependen kita"
   ]
  },
  {
   "cell_type": "code",
   "execution_count": 8,
   "metadata": {},
   "outputs": [
    {
     "name": "stdout",
     "output_type": "stream",
     "text": [
      "Kolom job memiliki hubungan yang signifikan dengan variabel target 'y'.\n",
      "Chi2 Statistic: 68.98828575267176\n",
      "P-value: 1.901391096662705e-10\n",
      "---\n",
      "Kolom marital memiliki hubungan yang signifikan dengan variabel target 'y'.\n",
      "Chi2 Statistic: 19.03005634409817\n",
      "P-value: 7.373535401823763e-05\n",
      "---\n",
      "Kolom education memiliki hubungan yang signifikan dengan variabel target 'y'.\n",
      "Chi2 Statistic: 15.236579554873757\n",
      "P-value: 0.001625240003630989\n",
      "---\n",
      "Kolom housing memiliki hubungan yang signifikan dengan variabel target 'y'.\n",
      "Chi2 Statistic: 48.88462833144263\n",
      "P-value: 2.7146998959323014e-12\n",
      "---\n",
      "Kolom loan memiliki hubungan yang signifikan dengan variabel target 'y'.\n",
      "Chi2 Statistic: 21.87182161746215\n",
      "P-value: 2.9148288298428256e-06\n",
      "---\n",
      "Kolom contact memiliki hubungan yang signifikan dengan variabel target 'y'.\n",
      "Chi2 Statistic: 87.86985650165812\n",
      "P-value: 8.30430129641147e-20\n",
      "---\n",
      "Kolom month memiliki hubungan yang signifikan dengan variabel target 'y'.\n",
      "Chi2 Statistic: 250.50006340911358\n",
      "P-value: 2.195354833570811e-47\n",
      "---\n",
      "Kolom poutcome memiliki hubungan yang signifikan dengan variabel target 'y'.\n",
      "Chi2 Statistic: 386.8773872252409\n",
      "P-value: 1.5398831095860172e-83\n",
      "---\n",
      "Kolom yang memiliki hubungan signifikan dengan variabel target 'y':\n",
      "['job', 'marital', 'education', 'housing', 'loan', 'contact', 'month', 'poutcome']\n"
     ]
    }
   ],
   "source": [
    "significant_cols = []\n",
    "for col in kat:\n",
    "    contingency_table = pd.crosstab(df[col], df['y'])\n",
    "    chi2, p, dof, expected = chi2_contingency(contingency_table)\n",
    "    if p < 0.05:  # Ubah nilai alpha sesuai kebutuhan Anda\n",
    "        significant_cols.append(col)\n",
    "        print(f\"Kolom {col} memiliki hubungan yang signifikan dengan variabel target 'y'.\")\n",
    "        print(f\"Chi2 Statistic: {chi2}\")\n",
    "        print(f\"P-value: {p}\")\n",
    "        print(\"---\")\n",
    "\n",
    "print(\"Kolom yang memiliki hubungan signifikan dengan variabel target 'y':\")\n",
    "print(significant_cols)"
   ]
  },
  {
   "cell_type": "markdown",
   "metadata": {},
   "source": [
    "Dengan menggunakan Chi squared value terlihat bahwa semua kolom selain kolom default itu mempunyai hubungan dengan variabel dependen kita sehingga kedepannya hanya kolom default yang akan kita drop dan kolom lainnya akan kita pilih menjadi"
   ]
  },
  {
   "cell_type": "code",
   "execution_count": 9,
   "metadata": {},
   "outputs": [
    {
     "name": "stdout",
     "output_type": "stream",
     "text": [
      "Uji ANOVA untuk age:\n",
      "F-statistic: 9.207070699335345\n",
      "P-value: 0.0024245358173772096\n",
      "Kesimpulan: Ada hubungan yang signifikan antara variabel numerik dan variabel target kategorikal.\n",
      "---\n",
      "Uji ANOVA untuk balance:\n",
      "F-statistic: 1.4492223355179277\n",
      "P-value: 0.2287158303857946\n",
      "Kesimpulan: Tidak ada hubungan yang signifikan antara variabel numerik dan variabel target kategorikal.\n",
      "---\n",
      "Uji ANOVA untuk duration:\n",
      "F-statistic: 866.5057596539403\n",
      "P-value: 2.1504449021590626e-174\n",
      "Kesimpulan: Ada hubungan yang signifikan antara variabel numerik dan variabel target kategorikal.\n",
      "---\n",
      "Uji ANOVA untuk campaign:\n",
      "F-statistic: 16.959992198086955\n",
      "P-value: 3.885793571201471e-05\n",
      "Kesimpulan: Ada hubungan yang signifikan antara variabel numerik dan variabel target kategorikal.\n",
      "---\n",
      "Uji ANOVA untuk pdays:\n",
      "F-statistic: 49.49538035599507\n",
      "P-value: 2.287071248715647e-12\n",
      "Kesimpulan: Ada hubungan yang signifikan antara variabel numerik dan variabel target kategorikal.\n",
      "---\n",
      "Uji ANOVA untuk previous:\n",
      "F-statistic: 62.40914419372764\n",
      "P-value: 3.477970686477408e-15\n",
      "Kesimpulan: Ada hubungan yang signifikan antara variabel numerik dan variabel target kategorikal.\n",
      "---\n"
     ]
    }
   ],
   "source": [
    "group_yes = df[df['y'] == 'yes']\n",
    "group_no = df[df['y'] == 'no']\n",
    "\n",
    "# Melakukan uji t-test untuk setiap variabel numerik\n",
    "numeric_cols = ['age', 'balance', 'duration', 'campaign', 'pdays', 'previous']\n",
    "\n",
    "for col in numeric_cols:\n",
    "    groups = []\n",
    "    for group_name, group_data in df.groupby('y'):\n",
    "        groups.append(group_data[col])\n",
    "    f_statistic, p_value = f_oneway(*groups)\n",
    "    print(f\"Uji ANOVA untuk {col}:\")\n",
    "    print(f\"F-statistic: {f_statistic}\")\n",
    "    print(f\"P-value: {p_value}\")\n",
    "    alpha = 0.05  # Nilai alpha (tingkat signifikansi)\n",
    "    if p_value < alpha:\n",
    "        print(\"Kesimpulan: Ada hubungan yang signifikan antara variabel numerik dan variabel target kategorikal.\")\n",
    "    else:\n",
    "        print(\"Kesimpulan: Tidak ada hubungan yang signifikan antara variabel numerik dan variabel target kategorikal.\")\n",
    "    print(\"---\")"
   ]
  },
  {
   "cell_type": "markdown",
   "metadata": {},
   "source": [
    " Sedangkan untuk kolam numerik akan dilakukan uji ANOVA untuk melihat korelasinya dengan kolom yang merupakan variabel dependen. Uji ANOVA dilakukan karena variabel dependen kita berbentuk string yang hanya berisi yes dan no. Dari hasil uji ANOVA terlihat bahwa hanya kolom balance yang tidak mempunyai hubungan signifikan terhadap variabel dependen kita. Sehingga kolom ini akan kita drop dan sisanya akan kita gunakan sebagai fitur"
   ]
  },
  {
   "cell_type": "code",
   "execution_count": 10,
   "metadata": {},
   "outputs": [],
   "source": [
    "X.drop(['default','balance'], axis=1, inplace=True)"
   ]
  },
  {
   "cell_type": "code",
   "execution_count": 11,
   "metadata": {},
   "outputs": [
    {
     "name": "stdout",
     "output_type": "stream",
     "text": [
      "Train size :  (3164, 14)\n",
      "Test size  :  (1357, 14)\n"
     ]
    }
   ],
   "source": [
    "X_train, X_test, y_train, y_test = train_test_split(X, y, test_size=0.3, random_state=21)\n",
    "\n",
    "print('Train size : ', X_train.shape)\n",
    "print('Test size  : ', X_test.shape)"
   ]
  },
  {
   "cell_type": "markdown",
   "metadata": {},
   "source": [
    " Setelah drop fitur yang tidak digunakan dilakukan splitting data di mana hanya digunakan 30% data sebagai data uji dan 70% data merupakan data latihan"
   ]
  },
  {
   "cell_type": "code",
   "execution_count": 12,
   "metadata": {},
   "outputs": [
    {
     "data": {
      "text/plain": [
       "(Index(['age', 'job', 'marital', 'education', 'housing', 'loan', 'contact',\n",
       "        'day', 'month', 'duration', 'campaign', 'pdays', 'previous',\n",
       "        'poutcome'],\n",
       "       dtype='object'),\n",
       " Index(['age', 'job', 'marital', 'education', 'housing', 'loan', 'contact',\n",
       "        'day', 'month', 'duration', 'campaign', 'pdays', 'previous',\n",
       "        'poutcome'],\n",
       "       dtype='object'))"
      ]
     },
     "execution_count": 12,
     "metadata": {},
     "output_type": "execute_result"
    }
   ],
   "source": [
    "X_train.columns, X_test.columns"
   ]
  },
  {
   "cell_type": "code",
   "execution_count": 13,
   "metadata": {},
   "outputs": [
    {
     "name": "stdout",
     "output_type": "stream",
     "text": [
      "Data Numerik: ['age', 'day', 'duration', 'campaign', 'pdays', 'previous']\n",
      "Data Kategorik: ['job', 'marital', 'education', 'housing', 'loan', 'contact', 'month', 'poutcome']\n"
     ]
    }
   ],
   "source": [
    "num1 = X.select_dtypes(exclude=['object']).columns.tolist()\n",
    "kat1 = X.select_dtypes(include=['object']).columns.tolist()\n",
    "\n",
    "print('Data Numerik:',num1)\n",
    "print('Data Kategorik:',kat1)"
   ]
  },
  {
   "cell_type": "markdown",
   "metadata": {},
   "source": [
    "### HANDLING OUTLIER TRAIN SET"
   ]
  },
  {
   "cell_type": "code",
   "execution_count": 14,
   "metadata": {},
   "outputs": [
    {
     "data": {
      "text/html": [
       "<div>\n",
       "<style scoped>\n",
       "    .dataframe tbody tr th:only-of-type {\n",
       "        vertical-align: middle;\n",
       "    }\n",
       "\n",
       "    .dataframe tbody tr th {\n",
       "        vertical-align: top;\n",
       "    }\n",
       "\n",
       "    .dataframe thead th {\n",
       "        text-align: right;\n",
       "    }\n",
       "</style>\n",
       "<table border=\"1\" class=\"dataframe\">\n",
       "  <thead>\n",
       "    <tr style=\"text-align: right;\">\n",
       "      <th></th>\n",
       "      <th>Kolom Numerik</th>\n",
       "      <th>Nilai Skewness</th>\n",
       "    </tr>\n",
       "  </thead>\n",
       "  <tbody>\n",
       "    <tr>\n",
       "      <th>0</th>\n",
       "      <td>age</td>\n",
       "      <td>0.695611</td>\n",
       "    </tr>\n",
       "    <tr>\n",
       "      <th>1</th>\n",
       "      <td>day</td>\n",
       "      <td>0.071782</td>\n",
       "    </tr>\n",
       "    <tr>\n",
       "      <th>2</th>\n",
       "      <td>duration</td>\n",
       "      <td>2.752114</td>\n",
       "    </tr>\n",
       "    <tr>\n",
       "      <th>3</th>\n",
       "      <td>campaign</td>\n",
       "      <td>4.866012</td>\n",
       "    </tr>\n",
       "    <tr>\n",
       "      <th>4</th>\n",
       "      <td>pdays</td>\n",
       "      <td>2.639013</td>\n",
       "    </tr>\n",
       "    <tr>\n",
       "      <th>5</th>\n",
       "      <td>previous</td>\n",
       "      <td>5.553615</td>\n",
       "    </tr>\n",
       "  </tbody>\n",
       "</table>\n",
       "</div>"
      ],
      "text/plain": [
       "  Kolom Numerik  Nilai Skewness\n",
       "0           age        0.695611\n",
       "1           day        0.071782\n",
       "2      duration        2.752114\n",
       "3      campaign        4.866012\n",
       "4         pdays        2.639013\n",
       "5      previous        5.553615"
      ]
     },
     "execution_count": 14,
     "metadata": {},
     "output_type": "execute_result"
    }
   ],
   "source": [
    "num_cols = list(X_train.select_dtypes(exclude='object').columns) # Mengambil data numerik dari dataframe\n",
    "\n",
    "listItem = [] # membuat list kosong untuk nantinya di tambahkan nilai skewness\n",
    "\n",
    "for col in num_cols:\n",
    "    listItem.append([col,X_train[col].skew()]) # mengecek skewness di tiap kolom data numerik\n",
    "\n",
    "pd.DataFrame(columns=['Kolom Numerik','Nilai Skewness'],data = listItem)"
   ]
  },
  {
   "cell_type": "markdown",
   "metadata": {},
   "source": [
    "Selanjutnya akan dilakukan handling dari outliers. Di mana dilihat terlebih dahulu skewness dari data latihan. Terlihat bahwa selain kolom hari semua kolom itu mempunyai data yang highly skewed"
   ]
  },
  {
   "cell_type": "code",
   "execution_count": 15,
   "metadata": {},
   "outputs": [],
   "source": [
    "winsoriser_smua = Winsorizer(capping_method='iqr',\n",
    "                            tail='both',\n",
    "                            fold=3,\n",
    "                            variables=['age','duration','campaign'],\n",
    "                            missing_values='ignore')\n",
    "\n",
    "winsoriser_smua.fit(X_train)\n",
    "X_train = winsoriser_smua.transform(X_train)"
   ]
  },
  {
   "cell_type": "code",
   "execution_count": 16,
   "metadata": {},
   "outputs": [
    {
     "data": {
      "text/html": [
       "<div>\n",
       "<style scoped>\n",
       "    .dataframe tbody tr th:only-of-type {\n",
       "        vertical-align: middle;\n",
       "    }\n",
       "\n",
       "    .dataframe tbody tr th {\n",
       "        vertical-align: top;\n",
       "    }\n",
       "\n",
       "    .dataframe thead th {\n",
       "        text-align: right;\n",
       "    }\n",
       "</style>\n",
       "<table border=\"1\" class=\"dataframe\">\n",
       "  <thead>\n",
       "    <tr style=\"text-align: right;\">\n",
       "      <th></th>\n",
       "      <th>Kolom Numerik</th>\n",
       "      <th>Nilai Skewness</th>\n",
       "    </tr>\n",
       "  </thead>\n",
       "  <tbody>\n",
       "    <tr>\n",
       "      <th>0</th>\n",
       "      <td>age</td>\n",
       "      <td>0.695611</td>\n",
       "    </tr>\n",
       "    <tr>\n",
       "      <th>1</th>\n",
       "      <td>day</td>\n",
       "      <td>0.071782</td>\n",
       "    </tr>\n",
       "    <tr>\n",
       "      <th>2</th>\n",
       "      <td>duration</td>\n",
       "      <td>1.648212</td>\n",
       "    </tr>\n",
       "    <tr>\n",
       "      <th>3</th>\n",
       "      <td>campaign</td>\n",
       "      <td>1.717062</td>\n",
       "    </tr>\n",
       "    <tr>\n",
       "      <th>4</th>\n",
       "      <td>pdays</td>\n",
       "      <td>2.639013</td>\n",
       "    </tr>\n",
       "    <tr>\n",
       "      <th>5</th>\n",
       "      <td>previous</td>\n",
       "      <td>5.553615</td>\n",
       "    </tr>\n",
       "  </tbody>\n",
       "</table>\n",
       "</div>"
      ],
      "text/plain": [
       "  Kolom Numerik  Nilai Skewness\n",
       "0           age        0.695611\n",
       "1           day        0.071782\n",
       "2      duration        1.648212\n",
       "3      campaign        1.717062\n",
       "4         pdays        2.639013\n",
       "5      previous        5.553615"
      ]
     },
     "execution_count": 16,
     "metadata": {},
     "output_type": "execute_result"
    }
   ],
   "source": [
    "num_cols = list(X_train.select_dtypes(exclude='object').columns)\n",
    "\n",
    "listItem = []\n",
    "\n",
    "for col in num_cols:\n",
    "    listItem.append([col,X_train[col].skew()])\n",
    "\n",
    "pd.DataFrame(columns=['Kolom Numerik','Nilai Skewness'],data = listItem)"
   ]
  },
  {
   "cell_type": "markdown",
   "metadata": {},
   "source": [
    "Karena datanya masih highly skewed maka akan dilakukan Kevin menggunakan teknik iqr. Teknik ini digunakan karena datanya tidak berdistribusi normal. Dan jika berdistribusi normal teknik yang digunakan adalah gaussian"
   ]
  },
  {
   "cell_type": "markdown",
   "metadata": {},
   "source": [
    "### HANDLING OUTLIER TEST SET"
   ]
  },
  {
   "cell_type": "code",
   "execution_count": 17,
   "metadata": {},
   "outputs": [
    {
     "data": {
      "text/html": [
       "<div>\n",
       "<style scoped>\n",
       "    .dataframe tbody tr th:only-of-type {\n",
       "        vertical-align: middle;\n",
       "    }\n",
       "\n",
       "    .dataframe tbody tr th {\n",
       "        vertical-align: top;\n",
       "    }\n",
       "\n",
       "    .dataframe thead th {\n",
       "        text-align: right;\n",
       "    }\n",
       "</style>\n",
       "<table border=\"1\" class=\"dataframe\">\n",
       "  <thead>\n",
       "    <tr style=\"text-align: right;\">\n",
       "      <th></th>\n",
       "      <th>Kolom Numerik</th>\n",
       "      <th>Nilai Skewness</th>\n",
       "    </tr>\n",
       "  </thead>\n",
       "  <tbody>\n",
       "    <tr>\n",
       "      <th>0</th>\n",
       "      <td>age</td>\n",
       "      <td>0.708251</td>\n",
       "    </tr>\n",
       "    <tr>\n",
       "      <th>1</th>\n",
       "      <td>day</td>\n",
       "      <td>0.147312</td>\n",
       "    </tr>\n",
       "    <tr>\n",
       "      <th>2</th>\n",
       "      <td>duration</td>\n",
       "      <td>2.820459</td>\n",
       "    </tr>\n",
       "    <tr>\n",
       "      <th>3</th>\n",
       "      <td>campaign</td>\n",
       "      <td>4.373787</td>\n",
       "    </tr>\n",
       "    <tr>\n",
       "      <th>4</th>\n",
       "      <td>pdays</td>\n",
       "      <td>2.897061</td>\n",
       "    </tr>\n",
       "    <tr>\n",
       "      <th>5</th>\n",
       "      <td>previous</td>\n",
       "      <td>6.712154</td>\n",
       "    </tr>\n",
       "  </tbody>\n",
       "</table>\n",
       "</div>"
      ],
      "text/plain": [
       "  Kolom Numerik  Nilai Skewness\n",
       "0           age        0.708251\n",
       "1           day        0.147312\n",
       "2      duration        2.820459\n",
       "3      campaign        4.373787\n",
       "4         pdays        2.897061\n",
       "5      previous        6.712154"
      ]
     },
     "execution_count": 17,
     "metadata": {},
     "output_type": "execute_result"
    }
   ],
   "source": [
    "num_cols = list(X_test.select_dtypes(exclude='object').columns)\n",
    "\n",
    "listItem = []\n",
    "\n",
    "for col in num_cols:\n",
    "    listItem.append([col,X_test[col].skew()])\n",
    "\n",
    "pd.DataFrame(columns=['Kolom Numerik','Nilai Skewness'],data = listItem)"
   ]
  },
  {
   "cell_type": "markdown",
   "metadata": {},
   "source": [
    "Setelah kita capping masih terdapat banyak data yang highly skewed walaupun distribusi data sudah membaik dari sebelumnya. Maka dari itu nantinya akan digunakan scaling berupa MinMaxScaler untuk menangani hal ini"
   ]
  },
  {
   "cell_type": "code",
   "execution_count": 18,
   "metadata": {},
   "outputs": [],
   "source": [
    "X_test = winsoriser_smua.transform(X_test)"
   ]
  },
  {
   "cell_type": "code",
   "execution_count": 19,
   "metadata": {},
   "outputs": [
    {
     "data": {
      "text/html": [
       "<div>\n",
       "<style scoped>\n",
       "    .dataframe tbody tr th:only-of-type {\n",
       "        vertical-align: middle;\n",
       "    }\n",
       "\n",
       "    .dataframe tbody tr th {\n",
       "        vertical-align: top;\n",
       "    }\n",
       "\n",
       "    .dataframe thead th {\n",
       "        text-align: right;\n",
       "    }\n",
       "</style>\n",
       "<table border=\"1\" class=\"dataframe\">\n",
       "  <thead>\n",
       "    <tr style=\"text-align: right;\">\n",
       "      <th></th>\n",
       "      <th>Kolom Numerik</th>\n",
       "      <th>Nilai Skewness</th>\n",
       "    </tr>\n",
       "  </thead>\n",
       "  <tbody>\n",
       "    <tr>\n",
       "      <th>0</th>\n",
       "      <td>age</td>\n",
       "      <td>0.708251</td>\n",
       "    </tr>\n",
       "    <tr>\n",
       "      <th>1</th>\n",
       "      <td>day</td>\n",
       "      <td>0.147312</td>\n",
       "    </tr>\n",
       "    <tr>\n",
       "      <th>2</th>\n",
       "      <td>duration</td>\n",
       "      <td>1.690906</td>\n",
       "    </tr>\n",
       "    <tr>\n",
       "      <th>3</th>\n",
       "      <td>campaign</td>\n",
       "      <td>1.708138</td>\n",
       "    </tr>\n",
       "    <tr>\n",
       "      <th>4</th>\n",
       "      <td>pdays</td>\n",
       "      <td>2.897061</td>\n",
       "    </tr>\n",
       "    <tr>\n",
       "      <th>5</th>\n",
       "      <td>previous</td>\n",
       "      <td>6.712154</td>\n",
       "    </tr>\n",
       "  </tbody>\n",
       "</table>\n",
       "</div>"
      ],
      "text/plain": [
       "  Kolom Numerik  Nilai Skewness\n",
       "0           age        0.708251\n",
       "1           day        0.147312\n",
       "2      duration        1.690906\n",
       "3      campaign        1.708138\n",
       "4         pdays        2.897061\n",
       "5      previous        6.712154"
      ]
     },
     "execution_count": 19,
     "metadata": {},
     "output_type": "execute_result"
    }
   ],
   "source": [
    "num_cols = list(X_test.select_dtypes(exclude='object').columns)\n",
    "\n",
    "listItem = []\n",
    "\n",
    "for col in num_cols:\n",
    "    listItem.append([col,X_test[col].skew()])\n",
    "\n",
    "pd.DataFrame(columns=['Kolom Numerik','Nilai Skewness'],data = listItem)"
   ]
  },
  {
   "cell_type": "markdown",
   "metadata": {},
   "source": [
    " Lalu untuk selanjutnya kita akan melakukan handling outliers dari data set uji. Dan dan setelah melihat skewness tinggi diterapkan juga metode capping dengan teknik iqr tetapi seperti data latihan, masih banyak yang highly skewed walaupun distribusinya sudah membaik"
   ]
  },
  {
   "cell_type": "markdown",
   "metadata": {},
   "source": [
    "## HANDLING MISSING VALUE"
   ]
  },
  {
   "cell_type": "code",
   "execution_count": 20,
   "metadata": {},
   "outputs": [
    {
     "data": {
      "text/plain": [
       "age          0\n",
       "job          0\n",
       "marital      0\n",
       "education    0\n",
       "housing      0\n",
       "loan         0\n",
       "contact      0\n",
       "day          0\n",
       "month        0\n",
       "duration     0\n",
       "campaign     0\n",
       "pdays        0\n",
       "previous     0\n",
       "poutcome     0\n",
       "dtype: int64"
      ]
     },
     "execution_count": 20,
     "metadata": {},
     "output_type": "execute_result"
    }
   ],
   "source": [
    "X_train.isnull().sum()"
   ]
  },
  {
   "cell_type": "code",
   "execution_count": 21,
   "metadata": {},
   "outputs": [
    {
     "data": {
      "text/plain": [
       "age          0\n",
       "job          0\n",
       "marital      0\n",
       "education    0\n",
       "housing      0\n",
       "loan         0\n",
       "contact      0\n",
       "day          0\n",
       "month        0\n",
       "duration     0\n",
       "campaign     0\n",
       "pdays        0\n",
       "previous     0\n",
       "poutcome     0\n",
       "dtype: int64"
      ]
     },
     "execution_count": 21,
     "metadata": {},
     "output_type": "execute_result"
    }
   ],
   "source": [
    "X_test.isnull().sum()"
   ]
  },
  {
   "cell_type": "code",
   "execution_count": 22,
   "metadata": {},
   "outputs": [
    {
     "data": {
      "text/html": [
       "<div>\n",
       "<style scoped>\n",
       "    .dataframe tbody tr th:only-of-type {\n",
       "        vertical-align: middle;\n",
       "    }\n",
       "\n",
       "    .dataframe tbody tr th {\n",
       "        vertical-align: top;\n",
       "    }\n",
       "\n",
       "    .dataframe thead th {\n",
       "        text-align: right;\n",
       "    }\n",
       "</style>\n",
       "<table border=\"1\" class=\"dataframe\">\n",
       "  <thead>\n",
       "    <tr style=\"text-align: right;\">\n",
       "      <th></th>\n",
       "      <th>y</th>\n",
       "    </tr>\n",
       "  </thead>\n",
       "  <tbody>\n",
       "    <tr>\n",
       "      <th>835</th>\n",
       "      <td>no</td>\n",
       "    </tr>\n",
       "    <tr>\n",
       "      <th>920</th>\n",
       "      <td>no</td>\n",
       "    </tr>\n",
       "    <tr>\n",
       "      <th>103</th>\n",
       "      <td>no</td>\n",
       "    </tr>\n",
       "    <tr>\n",
       "      <th>1158</th>\n",
       "      <td>no</td>\n",
       "    </tr>\n",
       "    <tr>\n",
       "      <th>3386</th>\n",
       "      <td>no</td>\n",
       "    </tr>\n",
       "    <tr>\n",
       "      <th>...</th>\n",
       "      <td>...</td>\n",
       "    </tr>\n",
       "    <tr>\n",
       "      <th>1577</th>\n",
       "      <td>no</td>\n",
       "    </tr>\n",
       "    <tr>\n",
       "      <th>818</th>\n",
       "      <td>no</td>\n",
       "    </tr>\n",
       "    <tr>\n",
       "      <th>423</th>\n",
       "      <td>no</td>\n",
       "    </tr>\n",
       "    <tr>\n",
       "      <th>1872</th>\n",
       "      <td>yes</td>\n",
       "    </tr>\n",
       "    <tr>\n",
       "      <th>2406</th>\n",
       "      <td>no</td>\n",
       "    </tr>\n",
       "  </tbody>\n",
       "</table>\n",
       "<p>1357 rows × 1 columns</p>\n",
       "</div>"
      ],
      "text/plain": [
       "        y\n",
       "835    no\n",
       "920    no\n",
       "103    no\n",
       "1158   no\n",
       "3386   no\n",
       "...   ...\n",
       "1577   no\n",
       "818    no\n",
       "423    no\n",
       "1872  yes\n",
       "2406   no\n",
       "\n",
       "[1357 rows x 1 columns]"
      ]
     },
     "execution_count": 22,
     "metadata": {},
     "output_type": "execute_result"
    }
   ],
   "source": [
    "y_test"
   ]
  },
  {
   "cell_type": "markdown",
   "metadata": {},
   "source": [
    "Setelah melakukan pengecekan, kita dapat melihat bahwa tidak ada missing value dalam data kita. Sehingga kita akan melanjutkan dengan melakukan model training menggunakan pipeline"
   ]
  },
  {
   "cell_type": "markdown",
   "metadata": {},
   "source": [
    "### MODEL DEFINITION\n",
    "\n",
    "- K-Nearest Neighbors (KNN) Classification:\n",
    "\n",
    "> KNN adalah algoritma yang sederhana namun efektif untuk klasifikasi dan regresi.\n",
    "Pada dasarnya, KNN mengklasifikasikan objek berdasarkan mayoritas label dari K tetangga terdekatnya dalam ruang fitur.\n",
    "Prosesnya melibatkan pengukuran jarak antara titik data yang akan diklasifikasikan dengan titik-titik data lainnya dalam set pelatihan.\n",
    "K adalah parameter yang ditentukan sebelumnya yang menentukan jumlah tetangga yang akan digunakan untuk menentukan label.\n",
    "\n",
    "- Support Vector Machine (SVM) Classification:\n",
    "\n",
    "> SVM adalah algoritma pembelajaran yang kuat untuk klasifikasi dan regresi.\n",
    "Tujuannya adalah untuk menemukan hyperplane terbaik yang memisahkan dua kelas dalam ruang fitur sedemikian rupa sehingga margin (jarak terdekat antara hyperplane dan titik-titik terdekat) maksimum.\n",
    "SVM mencari hyperplane optimal dengan menggunakan teknik optimasi matematika yang kompleks.\n",
    "SVM memiliki kemampuan untuk menangani data non-linear melalui penggunaan fungsi kernel yang memetakan data ke dimensi yang lebih tinggi.\n",
    "\n",
    "- Decision Tree:\n",
    "\n",
    "> Decision tree adalah algoritma pembelajaran yang membangun model prediksi dalam bentuk struktur pohon keputusan.\n",
    "Setiap simpul dalam pohon mewakili keputusan berdasarkan fitur tertentu.\n",
    "Proses pembelajaran membagi data berdasarkan fitur yang memberikan informasi paling signifikan (misalnya, mengurangi keragaman dalam kelas target).\n",
    "Decision tree dapat dengan mudah diinterpretasikan dan visualisasi, dan cocok untuk pemodelan klasifikasi dan regresi.\n",
    "\n",
    "- XGBoost (Extreme Gradient Boosting):\n",
    "\n",
    "> XGBoost adalah implementasi dari algoritma gradient boosting yang sangat efisien dan sangat populer.\n",
    "Ini adalah model ensemble yang terdiri dari banyak pohon keputusan lemah Proses pembelajaran dilakukan secara iteratif, di mana setiap pohon berikutnya berusaha untuk memperbaiki kesalahan prediksi dari pohon sebelumnya.\n",
    "XGBoost memiliki banyak parameter penyesuaian untuk mengoptimalkan kinerja model dan mencegah overfitting.\n",
    "\n",
    "- Random Forest:\n",
    "\n",
    "> Random forest juga merupakan model ensemble yang terdiri dari banyak pohon keputusan.\n",
    "Namun, dalam random forest, pohon-pohon tersebut dibangun secara independen dan secara acak menggunakan subset acak dari fitur dan data.\n",
    "Prediksi akhir dihasilkan dengan mengambil hasil mayoritas dari prediksi individual dari setiap pohon.\n",
    "Random forest cenderung memiliki kinerja yang baik dalam berbagai situasi dan sering digunakan karena sifatnya yang stabil dan kemampuannya untuk menangani data yang berukuran besar dengan fitur yang banyak."
   ]
  },
  {
   "cell_type": "markdown",
   "metadata": {},
   "source": [
    "### MODEL TRAINING"
   ]
  },
  {
   "cell_type": "markdown",
   "metadata": {},
   "source": [
    "#### MODEL TRAINING USING PIPELINE"
   ]
  },
  {
   "cell_type": "markdown",
   "metadata": {},
   "source": [
    "Pipeline pada pada model training ini akan dilakukan pada semua model dengan tahapan yang pertama dibuat pipeline untuk kolom numerik dan kolom kategorik. Di mana pada kolom numerik akan dilakukan scaling dengan menggunakan MinMaxScaler dikarenakan data yang masih banyak berjenis highly skewed. Lalu untuk data kategori akan digunakan Ordinal Encoder . Setelah itu dilakukan penggabungan kedua pipeline numerik dan kategorik menggunakan Column Transformer. Dan akan digabungkan hasil penggabungan kedua pipeline dengan model yang akan digunakan dalam satu pipeline akhir"
   ]
  },
  {
   "cell_type": "markdown",
   "metadata": {},
   "source": [
    "#### K-NEAREST NEIGHBORS PIPELINE MODEL"
   ]
  },
  {
   "cell_type": "code",
   "execution_count": 23,
   "metadata": {},
   "outputs": [],
   "source": [
    "# Definisikan pipeline untuk data numerik\n",
    "num_pipeline = Pipeline([\n",
    "    ('imputer', SimpleImputer(strategy='median')),\n",
    "    ('scaler', MinMaxScaler())\n",
    "])\n",
    "\n",
    "# Definisikan pipeline untuk data kategorikal\n",
    "cat_pipeline = Pipeline([\n",
    "    ('imputer', SimpleImputer(strategy='most_frequent')),\n",
    "    ('encoder', OrdinalEncoder(handle_unknown='error'))\n",
    "])\n",
    "\n",
    "# Gabungkan kedua pipeline di atas dengan ColumnTransformer\n",
    "preprocessing_pipeline = ColumnTransformer([\n",
    "    ('pipe_num', num_pipeline, num1),\n",
    "    ('pipe_cat', cat_pipeline, kat1)\n",
    "])\n",
    "\n",
    "# Gabungkan preprocessing_pipeline dengan KNeighborsClassifier dalam satu pipeline\n",
    "knn_pipeline = Pipeline([\n",
    "    ('preprocessing', preprocessing_pipeline),\n",
    "    ('knn', KNeighborsClassifier())\n",
    "])"
   ]
  },
  {
   "cell_type": "code",
   "execution_count": 24,
   "metadata": {},
   "outputs": [
    {
     "name": "stdout",
     "output_type": "stream",
     "text": [
      "Training Score:  0.904\n",
      "Testing Score:  0.887\n"
     ]
    },
    {
     "name": "stderr",
     "output_type": "stream",
     "text": [
      "c:\\Users\\User\\anaconda3\\envs\\ITB\\lib\\site-packages\\sklearn\\neighbors\\_classification.py:238: DataConversionWarning: A column-vector y was passed when a 1d array was expected. Please change the shape of y to (n_samples,), for example using ravel().\n",
      "  return self._fit(X, y)\n"
     ]
    }
   ],
   "source": [
    "knn_pipeline.fit(X_train, y_train)\n",
    "print('Training Score: ',round(knn_pipeline.score(X_train, y_train),3))\n",
    "print('Testing Score: ', round(knn_pipeline.score(X_test, y_test),3))"
   ]
  },
  {
   "cell_type": "markdown",
   "metadata": {},
   "source": [
    "Setelah melakukan fit pada baseline model KNN didapat bahwa model ini menghasilkan overfit di mana training skornya adalah 0,904 dan testing skornya 0,887"
   ]
  },
  {
   "cell_type": "markdown",
   "metadata": {},
   "source": [
    "#### SVC PIPELINE MODEL TRAINING"
   ]
  },
  {
   "cell_type": "code",
   "execution_count": 25,
   "metadata": {},
   "outputs": [],
   "source": [
    "# Definisikan pipeline untuk data numerik\n",
    "num_pipeline = Pipeline([\n",
    "    ('imputer', SimpleImputer(strategy='median')),\n",
    "    ('scaler', MinMaxScaler())\n",
    "])\n",
    "\n",
    "# Definisikan pipeline untuk data kategorikal\n",
    "cat_pipeline = Pipeline([\n",
    "    ('imputer', SimpleImputer(strategy='most_frequent')),\n",
    "    ('encoder', OrdinalEncoder(handle_unknown=\"error\"))\n",
    "])\n",
    "\n",
    "# Gabungkan kedua pipeline di atas dengan ColumnTransformer\n",
    "preprocessing_pipeline = ColumnTransformer([\n",
    "    ('pipe_num', num_pipeline, num1),\n",
    "    ('pipe_cat', cat_pipeline, kat1)\n",
    "])\n",
    "\n",
    "# Gabungkan preprocessing_pipeline dengan SVC dalam satu pipeline\n",
    "svc_pipeline = Pipeline([\n",
    "    ('preprocessing', preprocessing_pipeline),\n",
    "    ('svc', SVC())\n",
    "])"
   ]
  },
  {
   "cell_type": "code",
   "execution_count": 26,
   "metadata": {},
   "outputs": [
    {
     "name": "stderr",
     "output_type": "stream",
     "text": [
      "c:\\Users\\User\\anaconda3\\envs\\ITB\\lib\\site-packages\\sklearn\\utils\\validation.py:1300: DataConversionWarning: A column-vector y was passed when a 1d array was expected. Please change the shape of y to (n_samples, ), for example using ravel().\n",
      "  y = column_or_1d(y, warn=True)\n"
     ]
    },
    {
     "name": "stdout",
     "output_type": "stream",
     "text": [
      "Training Score:  0.885\n",
      "Testing Score:  0.884\n"
     ]
    }
   ],
   "source": [
    "svc_pipeline.fit(X_train, y_train)\n",
    "print('Training Score: ',round(svc_pipeline.score(X_train, y_train),3))\n",
    "print('Testing Score: ', round(svc_pipeline.score(X_test, y_test),3))"
   ]
  },
  {
   "cell_type": "markdown",
   "metadata": {},
   "source": [
    "Setelah melakukan fit pada baseline model SVC didapat bahwa model ini menghasilkan goodfit di mana training skornya adalah 0,885 dan testing skornya 0,884"
   ]
  },
  {
   "cell_type": "markdown",
   "metadata": {},
   "source": [
    "#### DECISION TREE PIPELINE MODEL TRAINING"
   ]
  },
  {
   "cell_type": "code",
   "execution_count": 27,
   "metadata": {},
   "outputs": [],
   "source": [
    "# Definisikan pipeline untuk data numerik\n",
    "num_pipeline = Pipeline([\n",
    "    ('imputer', SimpleImputer(strategy='median')),\n",
    "    ('scaler', MinMaxScaler())\n",
    "])\n",
    "\n",
    "# Definisikan pipeline untuk data kategorikal\n",
    "cat_pipeline = Pipeline([\n",
    "    ('imputer', SimpleImputer(strategy='most_frequent')),\n",
    "    ('encoder', OrdinalEncoder(handle_unknown=\"error\"))\n",
    "])\n",
    "\n",
    "# Gabungkan kedua pipeline di atas dengan ColumnTransformer\n",
    "preprocessing_pipeline = ColumnTransformer([\n",
    "    ('pipe_num', num_pipeline, num1),\n",
    "    ('pipe_cat', cat_pipeline, kat1)\n",
    "])\n",
    "\n",
    "# Gabungkan preprocessing_pipeline dengan SVC dalam satu pipeline\n",
    "dtc_pipeline = Pipeline([\n",
    "    ('preprocessing', preprocessing_pipeline),\n",
    "    ('dtc', DecisionTreeClassifier())\n",
    "])"
   ]
  },
  {
   "cell_type": "code",
   "execution_count": 28,
   "metadata": {},
   "outputs": [
    {
     "name": "stdout",
     "output_type": "stream",
     "text": [
      "Training Score:  1.0\n",
      "Testing Score:  0.863\n"
     ]
    }
   ],
   "source": [
    "dtc_pipeline.fit(X_train, y_train)\n",
    "print('Training Score: ',round(dtc_pipeline.score(X_train, y_train),3))\n",
    "print('Testing Score: ', round(dtc_pipeline.score(X_test, y_test),3))"
   ]
  },
  {
   "cell_type": "markdown",
   "metadata": {},
   "source": [
    "Setelah melakukan fit pada baseline model Decision Tree didapat bahwa model ini menghasilkan overfit di mana training skornya adalah nilai sempurna 1 dan testing skornya hanya 0,863"
   ]
  },
  {
   "cell_type": "code",
   "execution_count": 29,
   "metadata": {},
   "outputs": [],
   "source": [
    "# print(\"Jumlah 'no':\", sum(y_dtc_pred == 'no'))\n",
    "# print(\"Jumlah 'yes':\", sum(y_dtc_pred == 'yes'))"
   ]
  },
  {
   "cell_type": "markdown",
   "metadata": {},
   "source": [
    "#### XGBOOST PIPELINE MODEL TRAINING"
   ]
  },
  {
   "cell_type": "code",
   "execution_count": 30,
   "metadata": {},
   "outputs": [],
   "source": [
    "# Definisikan pipeline untuk data numerik\n",
    "num_pipeline = Pipeline([\n",
    "    ('imputer', SimpleImputer(strategy='median')),\n",
    "    ('scaler', MinMaxScaler())\n",
    "])\n",
    "\n",
    "# Definisikan pipeline untuk data kategorikal\n",
    "cat_pipeline = Pipeline([\n",
    "    ('imputer', SimpleImputer(strategy='most_frequent')),\n",
    "    ('encoder', OrdinalEncoder(handle_unknown=\"error\"))\n",
    "])\n",
    "\n",
    "# Gabungkan kedua pipeline di atas dengan ColumnTransformer\n",
    "preprocessing_pipeline = ColumnTransformer([\n",
    "    ('pipe_num', num_pipeline, num1),\n",
    "    ('pipe_cat', cat_pipeline, kat1)\n",
    "])\n",
    "\n",
    "# Gabungkan preprocessing_pipeline dengan SVC dalam satu pipeline\n",
    "xgb_pipeline = Pipeline([\n",
    "    ('preprocessing', preprocessing_pipeline),\n",
    "    ('xgb', XGBClassifier())\n",
    "\n",
    "])"
   ]
  },
  {
   "cell_type": "code",
   "execution_count": 31,
   "metadata": {},
   "outputs": [
    {
     "name": "stdout",
     "output_type": "stream",
     "text": [
      "Training Score:  0.999\n",
      "Testing Score:  0.894\n"
     ]
    },
    {
     "name": "stderr",
     "output_type": "stream",
     "text": [
      "c:\\Users\\User\\anaconda3\\envs\\ITB\\lib\\site-packages\\sklearn\\preprocessing\\_label.py:114: DataConversionWarning: A column-vector y was passed when a 1d array was expected. Please change the shape of y to (n_samples, ), for example using ravel().\n",
      "  y = column_or_1d(y, warn=True)\n",
      "c:\\Users\\User\\anaconda3\\envs\\ITB\\lib\\site-packages\\sklearn\\preprocessing\\_label.py:114: DataConversionWarning: A column-vector y was passed when a 1d array was expected. Please change the shape of y to (n_samples, ), for example using ravel().\n",
      "  y = column_or_1d(y, warn=True)\n"
     ]
    }
   ],
   "source": [
    "le = LabelEncoder()\n",
    "y_train1 = le.fit_transform(y_train)\n",
    "y_test1 = le.fit_transform(y_test)\n",
    "\n",
    "xgb_pipeline.fit(X_train, y_train1)\n",
    "print('Training Score: ',round(xgb_pipeline.score(X_train, y_train1),3))\n",
    "print('Testing Score: ', round(xgb_pipeline.score(X_test, y_test1),3))"
   ]
  },
  {
   "cell_type": "markdown",
   "metadata": {},
   "source": [
    "Setelah melakukan fit pada baseline model XGBoost didapat bahwa model ini juga menghasilkan overfit di mana training skornya adalah 0,999 atau hampir sempurna dan testing skornya hanya 0,894"
   ]
  },
  {
   "cell_type": "markdown",
   "metadata": {},
   "source": [
    "#### RANDOM FOREST PIPELINE MODEL TRAINING"
   ]
  },
  {
   "cell_type": "code",
   "execution_count": 32,
   "metadata": {},
   "outputs": [],
   "source": [
    "# Definisikan pipeline untuk data numerik\n",
    "num_pipeline = Pipeline([\n",
    "    ('imputer', SimpleImputer(strategy='median')),\n",
    "    ('scaler', MinMaxScaler())\n",
    "])\n",
    "\n",
    "# Definisikan pipeline untuk data kategorikal\n",
    "cat_pipeline = Pipeline([\n",
    "    ('imputer', SimpleImputer(strategy='most_frequent')),\n",
    "    ('encoder', OrdinalEncoder(handle_unknown=\"error\"))\n",
    "])\n",
    "\n",
    "# Gabungkan kedua pipeline di atas dengan ColumnTransformer\n",
    "preprocessing_pipeline = ColumnTransformer([\n",
    "    ('pipe_num', num_pipeline, num1),\n",
    "    ('pipe_cat', cat_pipeline, kat1)\n",
    "])\n",
    "\n",
    "# Gabungkan preprocessing_pipeline dengan SVC dalam satu pipeline\n",
    "rfc_pipeline = Pipeline([\n",
    "    ('preprocessing', preprocessing_pipeline),\n",
    "    ('rfc', RandomForestClassifier())\n",
    "\n",
    "])"
   ]
  },
  {
   "cell_type": "code",
   "execution_count": 33,
   "metadata": {},
   "outputs": [
    {
     "name": "stderr",
     "output_type": "stream",
     "text": [
      "c:\\Users\\User\\anaconda3\\envs\\ITB\\lib\\site-packages\\sklearn\\base.py:1474: DataConversionWarning: A column-vector y was passed when a 1d array was expected. Please change the shape of y to (n_samples,), for example using ravel().\n",
      "  return fit_method(estimator, *args, **kwargs)\n"
     ]
    },
    {
     "name": "stdout",
     "output_type": "stream",
     "text": [
      "Training Score:  1.0\n",
      "Testing Score:  0.891\n"
     ]
    }
   ],
   "source": [
    "rfc_pipeline.fit(X_train, y_train)\n",
    "print('Training Score: ',round(rfc_pipeline.score(X_train, y_train),3))\n",
    "print('Testing Score: ', round(rfc_pipeline.score(X_test, y_test),3))"
   ]
  },
  {
   "cell_type": "markdown",
   "metadata": {},
   "source": [
    "Setelah melakukan fit pada baseline model Random forest juga didapat bahwa model ini menghasilkan overfit di mana training skornya adalah 1 dan testing skornya 0,891"
   ]
  },
  {
   "cell_type": "markdown",
   "metadata": {},
   "source": [
    "### MODEL EVALUATION"
   ]
  },
  {
   "cell_type": "markdown",
   "metadata": {},
   "source": [
    "#### KNN EVALUATION"
   ]
  },
  {
   "cell_type": "code",
   "execution_count": 34,
   "metadata": {},
   "outputs": [
    {
     "data": {
      "text/plain": [
       "array(['no', 'no', 'no', ..., 'no', 'no', 'no'], dtype=object)"
      ]
     },
     "execution_count": 34,
     "metadata": {},
     "output_type": "execute_result"
    }
   ],
   "source": [
    "y_knn_pred= knn_pipeline.predict(X_test)\n",
    "y_knn_pred"
   ]
  },
  {
   "cell_type": "code",
   "execution_count": 35,
   "metadata": {},
   "outputs": [
    {
     "name": "stdout",
     "output_type": "stream",
     "text": [
      "              precision    recall  f1-score   support\n",
      "\n",
      "          no       0.89      0.99      0.94      1200\n",
      "         yes       0.58      0.10      0.16       157\n",
      "\n",
      "    accuracy                           0.89      1357\n",
      "   macro avg       0.74      0.54      0.55      1357\n",
      "weighted avg       0.86      0.89      0.85      1357\n",
      "\n"
     ]
    },
    {
     "name": "stdout",
     "output_type": "stream",
     "text": [
      "KNN-Confusion Matrix      : \n",
      " <sklearn.metrics._plot.confusion_matrix.ConfusionMatrixDisplay object at 0x000001DF9E963640>\n"
     ]
    },
    {
     "data": {
      "image/png": "[encoded data removed]",
      "text/plain": [
       "<Figure size 640x480 with 2 Axes>"
      ]
     },
     "metadata": {},
     "output_type": "display_data"
    }
   ],
   "source": [
    "target = ['no', 'yes']\n",
    "print(classification_report(y_test, y_knn_pred, target_names = target))\n",
    "print('KNN-Confusion Matrix      : \\n', ConfusionMatrixDisplay.from_estimator(knn_pipeline, X_test, y_test, cmap='Reds'))"
   ]
  },
  {
   "cell_type": "markdown",
   "metadata": {},
   "source": [
    "Jadi, performa model KNN berdasarkan classification report diatas adalah sebagai berikut:\n",
    "\n",
    "- Untuk kelas \"no\": Precision ≈ 0.893, Recall ≈ 0.991, dan F1-score ≈ 0.94\n",
    "- Untuk kelas \"yes\": Precision ≈ 0.58, Recall ≈ 0.1, dan F1-score ≈ 0.16\n",
    "> Ini menunjukkan bahwa model memiliki kinerja yang baik dalam memprediksi kelas \"no\" (karena memiliki precision dan recall yang tinggi), tetapi memiliki kinerja yang buruk dalam memprediksi kelas \"yes\" (karena memiliki precision dan recall yang rendah)."
   ]
  },
  {
   "cell_type": "markdown",
   "metadata": {},
   "source": [
    "#### SVC EVALUATION"
   ]
  },
  {
   "cell_type": "code",
   "execution_count": 36,
   "metadata": {},
   "outputs": [
    {
     "data": {
      "text/plain": [
       "array(['no', 'no', 'no', ..., 'no', 'no', 'no'], dtype=object)"
      ]
     },
     "execution_count": 36,
     "metadata": {},
     "output_type": "execute_result"
    }
   ],
   "source": [
    "y_svc_pred= svc_pipeline.predict(X_test)\n",
    "y_svc_pred"
   ]
  },
  {
   "cell_type": "code",
   "execution_count": 37,
   "metadata": {},
   "outputs": [
    {
     "name": "stderr",
     "output_type": "stream",
     "text": [
      "c:\\Users\\User\\anaconda3\\envs\\ITB\\lib\\site-packages\\sklearn\\metrics\\_classification.py:1509: UndefinedMetricWarning: Precision is ill-defined and being set to 0.0 in labels with no predicted samples. Use `zero_division` parameter to control this behavior.\n",
      "  _warn_prf(average, modifier, f\"{metric.capitalize()} is\", len(result))\n",
      "c:\\Users\\User\\anaconda3\\envs\\ITB\\lib\\site-packages\\sklearn\\metrics\\_classification.py:1509: UndefinedMetricWarning: Precision is ill-defined and being set to 0.0 in labels with no predicted samples. Use `zero_division` parameter to control this behavior.\n",
      "  _warn_prf(average, modifier, f\"{metric.capitalize()} is\", len(result))\n",
      "c:\\Users\\User\\anaconda3\\envs\\ITB\\lib\\site-packages\\sklearn\\metrics\\_classification.py:1509: UndefinedMetricWarning: Precision is ill-defined and being set to 0.0 in labels with no predicted samples. Use `zero_division` parameter to control this behavior.\n",
      "  _warn_prf(average, modifier, f\"{metric.capitalize()} is\", len(result))\n"
     ]
    },
    {
     "name": "stdout",
     "output_type": "stream",
     "text": [
      "              precision    recall  f1-score   support\n",
      "\n",
      "          no       0.88      1.00      0.94      1200\n",
      "         yes       0.00      0.00      0.00       157\n",
      "\n",
      "    accuracy                           0.88      1357\n",
      "   macro avg       0.44      0.50      0.47      1357\n",
      "weighted avg       0.78      0.88      0.83      1357\n",
      "\n",
      " SVC Confusion Matrix      : \n",
      " <sklearn.metrics._plot.confusion_matrix.ConfusionMatrixDisplay object at 0x000001DFA49B3970>\n"
     ]
    },
    {
     "data": {
      "image/png": "[encoded data removed]",
      "text/plain": [
       "<Figure size 640x480 with 2 Axes>"
      ]
     },
     "metadata": {},
     "output_type": "display_data"
    }
   ],
   "source": [
    "target = ['no', 'yes']\n",
    "print(classification_report(y_test, y_svc_pred, target_names = target))\n",
    "print(' SVC Confusion Matrix      : \\n', ConfusionMatrixDisplay.from_estimator(svc_pipeline, X_test, y_test, cmap='Reds'))"
   ]
  },
  {
   "cell_type": "markdown",
   "metadata": {},
   "source": [
    "Performa model SVC berdasarkan classification report di atas adalah sebagai berikut:\n",
    "\n",
    "- Untuk kelas \"no\": Precision ≈ 0.884, Recall = 1, dan F1-score ≈ 0.94\n",
    "- Untuk kelas \"yes\": Precision tidak dapat dihitung, Recall tidak dapat dihitung, dan F1-score tidak dapat dihitung\n",
    "\n",
    "> Karena tidak ada prediksi yang benar untuk kelas \"yes\" (semua hasil prediksi adalah negatif), nilai precision, recall, dan f1-score untuk kelas \"yes\" bernilai 0 dan model ini sangat buruk untuk menebak kelas yes. Namun, model memiliki kinerja yang baik dalam memprediksi kelas \"no\", dengan recall sempurna (1) dan F1-score yang tinggi (0.938)."
   ]
  },
  {
   "cell_type": "markdown",
   "metadata": {},
   "source": [
    "#### RANDOM FOREST EVALUATION"
   ]
  },
  {
   "cell_type": "code",
   "execution_count": 38,
   "metadata": {},
   "outputs": [
    {
     "data": {
      "text/plain": [
       "array(['no', 'no', 'no', ..., 'no', 'no', 'yes'], dtype=object)"
      ]
     },
     "execution_count": 38,
     "metadata": {},
     "output_type": "execute_result"
    }
   ],
   "source": [
    "y_rfc_pred= rfc_pipeline.predict(X_test)\n",
    "y_rfc_pred "
   ]
  },
  {
   "cell_type": "code",
   "execution_count": 39,
   "metadata": {},
   "outputs": [
    {
     "name": "stdout",
     "output_type": "stream",
     "text": [
      "Classification Report : \n",
      "               precision    recall  f1-score   support\n",
      "\n",
      "          no       0.91      0.97      0.94      1200\n",
      "         yes       0.56      0.26      0.36       157\n",
      "\n",
      "    accuracy                           0.89      1357\n",
      "   macro avg       0.74      0.62      0.65      1357\n",
      "weighted avg       0.87      0.89      0.87      1357\n",
      " \n",
      "\n",
      "Random Forest Confusion Matrix      : \n",
      " <sklearn.metrics._plot.confusion_matrix.ConfusionMatrixDisplay object at 0x000001DFAC343130>\n"
     ]
    },
    {
     "data": {
      "image/png": "[encoded data removed]",
      "text/plain": [
       "<Figure size 640x480 with 2 Axes>"
      ]
     },
     "metadata": {},
     "output_type": "display_data"
    }
   ],
   "source": [
    "target = ['no', 'yes']\n",
    "print('Classification Report : \\n', classification_report(y_test, y_rfc_pred), '\\n')\n",
    "print('Random Forest Confusion Matrix      : \\n', ConfusionMatrixDisplay.from_estimator(rfc_pipeline, X_test, y_test, cmap='Reds'))"
   ]
  },
  {
   "cell_type": "markdown",
   "metadata": {},
   "source": [
    "Performa model Decision Tree berdasarkan classification report yang diberikan diatas adalah sebagai berikut:\n",
    "\n",
    "- Untuk kelas \"no\": Precision ≈ 0.920, Recall ≈ 0.97, dan F1-score ≈ 0.94\n",
    "- Untuk kelas \"yes\": Precision ≈ 0.56, Recall ≈ 0.26, dan F1-score ≈ 0.36\n",
    "\n",
    "> Sama seperti sebelumnya, ini menunjukkan bahwa model memiliki kinerja yang lebih baik dalam memprediksi kelas \"no\" dibandingkan dengan kelas \"yes\". Tetapi masih lebih baik memprediksi kelas yes daripada model SVC "
   ]
  },
  {
   "cell_type": "markdown",
   "metadata": {},
   "source": [
    "#### DECISION TREE EVALUATION"
   ]
  },
  {
   "cell_type": "code",
   "execution_count": 41,
   "metadata": {},
   "outputs": [
    {
     "data": {
      "text/plain": [
       "array(['no', 'no', 'no', ..., 'no', 'yes', 'yes'], dtype=object)"
      ]
     },
     "execution_count": 41,
     "metadata": {},
     "output_type": "execute_result"
    }
   ],
   "source": [
    "y_dtc_pred= dtc_pipeline.predict(X_test)\n",
    "y_dtc_pred "
   ]
  },
  {
   "cell_type": "code",
   "execution_count": 42,
   "metadata": {},
   "outputs": [
    {
     "name": "stdout",
     "output_type": "stream",
     "text": [
      "              precision    recall  f1-score   support\n",
      "\n",
      "          no       0.92      0.93      0.92      1200\n",
      "         yes       0.40      0.38      0.39       157\n",
      "\n",
      "    accuracy                           0.86      1357\n",
      "   macro avg       0.66      0.65      0.66      1357\n",
      "weighted avg       0.86      0.86      0.86      1357\n",
      "\n",
      "Decision Tree Confusion Matrix      : \n",
      " <sklearn.metrics._plot.confusion_matrix.ConfusionMatrixDisplay object at 0x000001DFA49B3100>\n"
     ]
    },
    {
     "data": {
      "image/png": "[encoded data removed]",
      "text/plain": [
       "<Figure size 640x480 with 2 Axes>"
      ]
     },
     "metadata": {},
     "output_type": "display_data"
    }
   ],
   "source": [
    "target = ['no', 'yes']\n",
    "print(classification_report(y_test, y_dtc_pred, target_names = target))\n",
    "print('Decision Tree Confusion Matrix      : \\n', ConfusionMatrixDisplay.from_estimator(dtc_pipeline, X_test, y_test, cmap='Reds'))"
   ]
  },
  {
   "cell_type": "markdown",
   "metadata": {},
   "source": [
    "Performa model Decision Tree berdasarkan classification report yang diberikan diatas adalah sebagai berikut:\n",
    "\n",
    "- Untuk kelas \"no\": Precision ≈ 0.920, Recall ≈ 0.93, dan F1-score ≈ 0.92\n",
    "- Untuk kelas \"yes\": Precision ≈ 0.4, Recall ≈ 0.38, dan F1-score ≈ 0.39\n",
    "\n",
    "> Ini menunjukkan bahwa model Decision Tree memiliki kinerja yang cukup baik dalam memprediksi kelas \"no\", dengan precision, recall, dan F1-score yang tinggi. Namun, kinerja dalam memprediksi kelas \"yes\" lebih rendah, dengan nilai precision, recall, dan F1-score yang lebih rendah. Hal ini menunjukkan bahwa model lebih baik dalam memprediksi kelas mayoritas (\"no\") daripada kelas minoritas (\"yes\")."
   ]
  },
  {
   "cell_type": "markdown",
   "metadata": {},
   "source": [
    "#### XGBOOST EVALUATION"
   ]
  },
  {
   "cell_type": "code",
   "execution_count": 43,
   "metadata": {},
   "outputs": [
    {
     "data": {
      "text/plain": [
       "array([0, 0, 0, ..., 0, 0, 1])"
      ]
     },
     "execution_count": 43,
     "metadata": {},
     "output_type": "execute_result"
    }
   ],
   "source": [
    "y_xgb_pred= xgb_pipeline.predict(X_test)\n",
    "y_xgb_pred "
   ]
  },
  {
   "cell_type": "code",
   "execution_count": 44,
   "metadata": {},
   "outputs": [
    {
     "name": "stdout",
     "output_type": "stream",
     "text": [
      "              precision    recall  f1-score   support\n",
      "\n",
      "          no       0.92      0.96      0.94      1200\n",
      "         yes       0.56      0.39      0.46       157\n",
      "\n",
      "    accuracy                           0.89      1357\n",
      "   macro avg       0.74      0.67      0.70      1357\n",
      "weighted avg       0.88      0.89      0.89      1357\n",
      "\n",
      "XGBoost Confusion Matrix      : \n",
      " <sklearn.metrics._plot.confusion_matrix.ConfusionMatrixDisplay object at 0x000001DFAC3435E0>\n"
     ]
    },
    {
     "data": {
      "image/png": "[encoded data removed]",
      "text/plain": [
       "<Figure size 640x480 with 2 Axes>"
      ]
     },
     "metadata": {},
     "output_type": "display_data"
    }
   ],
   "source": [
    "target = ['no', 'yes']\n",
    "print(classification_report(y_test1, y_xgb_pred, target_names = target))\n",
    "print('XGBoost Confusion Matrix      : \\n', ConfusionMatrixDisplay.from_estimator(xgb_pipeline, X_test, y_test1, cmap='Reds'))"
   ]
  },
  {
   "cell_type": "markdown",
   "metadata": {},
   "source": [
    "Performa model XGBoost berdasarkan classification report yang diberikan dimana 0 adalah kelas \"no\" dan 1 adalah kelas \"yes\" adalah sebagai berikut:\n",
    "\n",
    "- Untuk kelas \"no\": Precision ≈ 0.92, Recall ≈ 0.96, dan F1-score ≈ 0.94\n",
    "- Untuk kelas \"yes\": Precision ≈ 0.56, Recall ≈ 0.39, dan F1-score ≈ 0.46\n",
    "\n",
    "> Ini menunjukkan bahwa model XGBoost juga memiliki kinerja yang baik dalam memprediksi kelas \"no\" (tinggi dalam precision, recall, dan F1-score), tetapi memiliki kinerja yang lebih rendah dalam memprediksi kelas \"yes\" (dengan nilai precision, recall, dan F1-score yang lebih rendah)."
   ]
  },
  {
   "cell_type": "markdown",
   "metadata": {},
   "source": [
    "#### ACCURACY AND F1 SCORE OF ALL MODEL"
   ]
  },
  {
   "cell_type": "code",
   "execution_count": 52,
   "metadata": {},
   "outputs": [],
   "source": [
    "pipeline_model = {\n",
    "    'KNN' : knn_pipeline,\n",
    "    'SVC' : svc_pipeline,\n",
    "    'Decision Tree' : dtc_pipeline,\n",
    "    'Random Forest' : rfc_pipeline\n",
    "}\n",
    "\n",
    "metrics = {\n",
    "    'Accuracy' : accuracy_score,\n",
    "    'F1-Score' : f1_score,\n",
    "}\n",
    "\n",
    "df_model = pd.DataFrame(columns = pipeline_model.keys(), index=['Accuracy', 'F1-Score'])\n",
    "\n",
    "for metric, metric_func in metrics.items():\n",
    "    for model_name, model_pipeline in pipeline_model.items():\n",
    "        if metric == 'F1-Score':\n",
    "            pos_label = 'no' \n",
    "            df_model.loc[metric, model_name] = metric_func(y_test, model_pipeline.predict(X_test), pos_label=pos_label)\n",
    "        else:\n",
    "            df_model.loc[metric, model_name] = metric_func(y_test, model_pipeline.predict(X_test))"
   ]
  },
  {
   "cell_type": "code",
   "execution_count": 55,
   "metadata": {},
   "outputs": [],
   "source": [
    "# Menghitung skor akurasi dan F1-Score\n",
    "accuracy = accuracy_score(y_test1, y_xgb_pred)\n",
    "f1 = f1_score(y_test1, y_xgb_pred, pos_label=0)  # pos_label sesuaikan dengan kelas positif\n",
    "\n",
    "# Menambahkan skor ke DataFrame df_model\n",
    "df_model.loc['Accuracy', 'XGB'] = accuracy\n",
    "df_model.loc['F1-Score', 'XGB'] = f1"
   ]
  },
  {
   "cell_type": "code",
   "execution_count": 56,
   "metadata": {},
   "outputs": [
    {
     "data": {
      "text/html": [
       "<div>\n",
       "<style scoped>\n",
       "    .dataframe tbody tr th:only-of-type {\n",
       "        vertical-align: middle;\n",
       "    }\n",
       "\n",
       "    .dataframe tbody tr th {\n",
       "        vertical-align: top;\n",
       "    }\n",
       "\n",
       "    .dataframe thead th {\n",
       "        text-align: right;\n",
       "    }\n",
       "</style>\n",
       "<table border=\"1\" class=\"dataframe\">\n",
       "  <thead>\n",
       "    <tr style=\"text-align: right;\">\n",
       "      <th></th>\n",
       "      <th>KNN</th>\n",
       "      <th>SVC</th>\n",
       "      <th>Decision Tree</th>\n",
       "      <th>Random Forest</th>\n",
       "      <th>XGB</th>\n",
       "    </tr>\n",
       "  </thead>\n",
       "  <tbody>\n",
       "    <tr>\n",
       "      <th>Accuracy</th>\n",
       "      <td>0.887251</td>\n",
       "      <td>0.884304</td>\n",
       "      <td>0.862933</td>\n",
       "      <td>0.890936</td>\n",
       "      <td>0.893884</td>\n",
       "    </tr>\n",
       "    <tr>\n",
       "      <th>F1-Score</th>\n",
       "      <td>0.93955</td>\n",
       "      <td>0.9386</td>\n",
       "      <td>0.922757</td>\n",
       "      <td>0.940419</td>\n",
       "      <td>0.941176</td>\n",
       "    </tr>\n",
       "  </tbody>\n",
       "</table>\n",
       "</div>"
      ],
      "text/plain": [
       "               KNN       SVC Decision Tree Random Forest       XGB\n",
       "Accuracy  0.887251  0.884304      0.862933      0.890936  0.893884\n",
       "F1-Score   0.93955    0.9386      0.922757      0.940419  0.941176"
      ]
     },
     "execution_count": 56,
     "metadata": {},
     "output_type": "execute_result"
    }
   ],
   "source": [
    "df_model"
   ]
  },
  {
   "cell_type": "markdown",
   "metadata": {},
   "source": [
    "Dari hasil gabungan akurasi dan F1-score semua model terlihat bahwa random forest dan XGBoost lah yang paling baik dalam melakukan prediksi untuk data kali ini. Hal ini dapat disebabkan karena :    \n",
    "\n",
    "- Kedua model ini termasuk dalam kategori ensemble learning, yang berarti mereka menggabungkan beberapa model kecil (pohon keputusan dalam kasus Random Forest dan pohon keputusan berurutan dalam kasus XGBoost) untuk membuat prediksi yang lebih baik. Dengan menggabungkan prediksi dari beberapa model, ensemble learning dapat mengurangi varians dan meningkatkan akurasi secara keseluruhan.\n",
    "- XGBoost dan Random Forest cenderung lebih mampu menangani kecocokan yang kompleks dan memodelkan hubungan yang lebih non-linear dalam data. Mereka dapat menangani pola-pola yang lebih rumit dan beradaptasi dengan lebih baik terhadap data yang kompleks, yang dapat meningkatkan akurasi prediksi\n",
    "- XGBoost dan Random Forest juga cenderung efektif dalam menangani data dengan fitur berdimensi tinggi. Mereka dapat menangani fitur-fitur yang tidak relevan atau tidak penting dengan baik, dan juga memiliki kemampuan untuk menangani interaksi antara fitur dengan baik."
   ]
  },
  {
   "cell_type": "markdown",
   "metadata": {},
   "source": [
    "#### HYPERPARAMETER TUNING"
   ]
  },
  {
   "cell_type": "code",
   "execution_count": 48,
   "metadata": {},
   "outputs": [
    {
     "name": "stdout",
     "output_type": "stream",
     "text": [
      "Parameter terbaik: {'xgb__colsample_bytree': 1.0, 'xgb__gamma': 0.2, 'xgb__learning_rate': 0.2, 'xgb__max_depth': 3, 'xgb__n_estimators': 100, 'xgb__reg_alpha': 0, 'xgb__reg_lambda': 1.5, 'xgb__subsample': 0.9}\n",
      "Skor validasi terbaik: 0.9023401723758674\n"
     ]
    }
   ],
   "source": [
    "# Definisikan grid parameter untuk XGBoost\n",
    "xgb_gridparams = {\n",
    "    'xgb__learning_rate': [0.01, 0.1, 0.2],  \n",
    "    'xgb__n_estimators': [100, 200, 300],  \n",
    "    'xgb__max_depth': [3, 5, 7],  \n",
    "    'xgb__gamma': [0, 0.1, 0.2],  \n",
    "    'xgb__subsample': [0.8, 0.9, 1.0],  \n",
    "    'xgb__colsample_bytree': [0.8, 0.9, 1.0],  \n",
    "    'xgb__reg_alpha': [0, 0.1, 0.5],  \n",
    "    'xgb__reg_lambda': [1, 1.5, 2]\n",
    "}\n",
    "\n",
    "# Buat objek GridSearchCV dengan pipeline dan grid parameter\n",
    "xgb_grid = GridSearchCV(xgb_pipeline, param_grid=xgb_gridparams, cv=5)\n",
    "\n",
    "# Melatih model\n",
    "xgb_grid.fit(X_train, y_train1)\n",
    "\n",
    "# Hasil dan evaluasi\n",
    "print(\"Parameter terbaik:\", xgb_grid.best_params_)\n",
    "print(\"Skor validasi terbaik:\", xgb_grid.best_score_)\n"
   ]
  },
  {
   "cell_type": "code",
   "execution_count": 61,
   "metadata": {},
   "outputs": [],
   "source": [
    "xgb_best= xgb_grid.best_estimator_"
   ]
  },
  {
   "cell_type": "code",
   "execution_count": 63,
   "metadata": {},
   "outputs": [
    {
     "name": "stdout",
     "output_type": "stream",
     "text": [
      "XGBoost Confusion Matrix      : \n",
      " <sklearn.metrics._plot.confusion_matrix.ConfusionMatrixDisplay object at 0x000001DFAF980A00>\n",
      "F1 Score - Test Set   :  0.38333333333333336 \n",
      "\n",
      "              precision    recall  f1-score   support\n",
      "\n",
      "          no       0.91      0.97      0.94      1200\n",
      "         yes       0.55      0.29      0.38       157\n",
      "\n",
      "    accuracy                           0.89      1357\n",
      "   macro avg       0.73      0.63      0.66      1357\n",
      "weighted avg       0.87      0.89      0.88      1357\n",
      "\n",
      "Confusion Matrix      : \n",
      " <sklearn.metrics._plot.confusion_matrix.ConfusionMatrixDisplay object at 0x000001DFB14DE320>\n"
     ]
    },
    {
     "data": {
      "image/png": "[encoded data removed]",
      "text/plain": [
       "<Figure size 640x480 with 2 Axes>"
      ]
     },
     "metadata": {},
     "output_type": "display_data"
    },
    {
     "data": {
      "image/png": "[encoded data removed]",
      "text/plain": [
       "<Figure size 640x480 with 2 Axes>"
      ]
     },
     "metadata": {},
     "output_type": "display_data"
    }
   ],
   "source": [
    "ypred_test_xgb=xgb_best.predict(X_test)\n",
    "target = ['no', 'yes']\n",
    "print('XGBoost Confusion Matrix      : \\n', ConfusionMatrixDisplay.from_estimator(xgb_pipeline, X_test, y_test1, cmap='Reds'))\n",
    "print('F1 Score - Test Set   : ', f1_score(y_test1, ypred_test_xgb), '\\n')\n",
    "print(classification_report(y_test1, ypred_test_xgb, target_names = target))\n",
    "print('Confusion Matrix      : \\n', ConfusionMatrixDisplay.from_estimator(xgb_best, X_test, y_test1, cmap='Reds'))"
   ]
  },
  {
   "cell_type": "markdown",
   "metadata": {},
   "source": [
    "Hasil dari hyperparameter tuning XGboost adalah TP nya meningkat menjadi 1163 lalu FP nya juga meningkat menjadi 111. Dan juga model ini telah dituning malah makin tidak benar dalam memprediksi variabel dependen yang bernilai yes. Hal ini dapat dilihat dari true negatif yang berkurang dari 61 hingga 46 Dan makin banyak nilai no yang diprediksi sebagai yes daripada saat sebelum dituning. Sehingga model ini tidak juga menghasilkan goodfit walaupun di tuning"
   ]
  },
  {
   "cell_type": "markdown",
   "metadata": {},
   "source": [
    "### KESIMPULAN "
   ]
  },
  {
   "cell_type": "markdown",
   "metadata": {},
   "source": [
    "Sehingga kesimpulan akhir yang dapat diambil dari melakukan machine learning untuk memprediksi bagaimana performa dari beberapa model seperti KNN, SVC, Decision Tree, Random Forest dan juga XGBoost adalah :\n",
    "\n",
    ">Pertama kita melihat bagaimana karakteristik dari pelanggan yang kita punya itu pelanggan paling banyak berada di umur 30 hingga 40 tahun dan rata-rata menolak hasil tawaran investasi kita. Lalu pelanggan juga mayoritas golongan yang sudah menikah di mana 61,9% pelanggan merupakan pelanggan yang sudah menikah dan jika kita melihat dari level edukasinya pelanggan paling banyak merupakan golongan yang menempuh hanya hingga jalur SMA lalu disusul oleh beberapa pelanggan yang tamat perguruan tinggi \n",
    "\n",
    ">Kedua jika melihat bagaimanakah perilaku dari pelanggan apakah akan melakukan investasi yang ditawarkan atau tidak itu terlihat dari hasil EDA berupa education level. Di mana terlihat rata-rata dari pelanggan merupakan pelanggan dengan pendidikan terakhir menempuh pendidikan tingkat sekunder atau masih SMA. Hal ini menyebabkan banyak pelanggan kita yang belum mempunyai banyak penghasilan sehingga cenderung tidak akan melakukan investasi jika ditawarkan\n",
    "\n",
    ">Ketiga jika melihat apakah kelima model mampu memprediksi kelas no dengan baik dimana pada variabel dependen yang adalah no setelah melihat dan melakukan fit dan predict pada data uji tes dapat diprediksi dengan baik oleh kelima model. Walaupun semua model tidak baik dalam memprediksi \"yes\" dalam variabel dependen. Dengan model terbaik yang dapat memprediksinya adalah Random Forest dan juga XGBoost.\n",
    "\n",
    ">Keempat dengan dilakukan Hyperparameter Tuning dari model XGBoost ini menghasilkan prediksi nilai no dari variabel dependen  lebih baik dari sebelum adanya tuning. Tetapi setelah di tuning menyebabkan model XGBoost malah tidak dapat menghasilkan performa yang lebih baik dari model XGBoost sebelum di tuning untuk memprediksi nilai Yes dalam variabel dependen kita. \n",
    "\n",
    "> Kurang maksimalnya hasil dari Hyperparameter tuning ini mungkin dapat disebabkan karena kurangnya kita dalam melakukan feature engineering seperti mencoba berbagai transformasi dari kolom yang sudah ada mungkin dapat meningkatkan keakuratan prediksi. Dan juga mungkin lebih baik juga jika dilakukan eksplorasi model ensemble lainnya seperti Gradient Boosting atau Stochastic Gradient Boosting juga dapat dilakukan untuk melihat apakah ada model lain yang memberikan hasil yang lebih baik."
   ]
  },
  {
   "cell_type": "markdown",
   "metadata": {},
   "source": [
    "### CONCEPTUAL PROBLEM"
   ]
  },
  {
   "cell_type": "markdown",
   "metadata": {},
   "source": [
    "1. Jelaskan latar belakang adanya bagging dan cara kerja bagging !\n",
    "\n",
    "> Bagging (Bootstrap Aggregating) adalah salah satu teknik ensemble learning yang digunakan dalam machine learning untuk meningkatkan kinerja model prediksi. dimana langkah kerja bagging adalah : \n",
    "- Bagging menggunakan teknik bootstrap sampling untuk membuat beberapa dataset pelatihan baru dari dataset pelatihan asli. Bootstrap sampling mengambil sampel acak dengan penggantian dari dataset latih asli. Dengan demikian, beberapa dataset yang dihasilkan dapat memiliki beberapa contoh yang sama dan beberapa contoh yang hilang.\n",
    "- Setelah dataset bootstrap dibuat, model pembelajaran yang sama diterapkan ke setiap dataset tersebut.\n",
    "- Setiap model dibuat secara independen pada dataset bootstrap yang berbeda. Hal ini memungkinkan proses pelatihan dilakukan secara paralel, yang dapat menghemat waktu pelatihan secara signifikan.\n",
    "- Setelah semua model dilatih, prediksi dari setiap model dihasilkan untuk setiap data uji. Prediksi ini kemudian diagregat (misalnya dengan mengambil rata-rata atau modus) untuk menghasilkan prediksi final.\n",
    "\n",
    "2. Jelaskan perbedaan cara kerja algoritma Random Forest dengan algoritma boosting yang Anda pilih !\n",
    "\n",
    "> Algoritma boosting yang saya pilih adalah XGBoost dimana Random Forest adalah kumpulan dari beberapa decision trees yang dihasilkan secara independen. Setiap decision tree dibuat dengan menggunakan teknik bagging, di mana setiap pohon dibuat dari sampel data yang diambil dengan penggantian dari dataset latih. Selain itu, untuk setiap node pemisah dalam pohon, hanya subset dari fitur yang dipertimbangkan untuk memilih pemisah terbaik. Sedangkan XGBoost adalah algoritma boosting tree yang membangun model prediksi dengan menambahkan pohon secara berurutan. Pada setiap langkah, XGBoost menyesuaikan pohon baru dengan mengurangi kesalahan residual dari model sebelumnya. XGBoost menggunakan teknik gradient boosting untuk menemukan pohon berikutnya yang akan menambahkan nilai prediksi keseluruhan. Perbedaan utama antara Random Forest dan XGBoost adalah dalam cara mereka menghasilkan ansambel model. Random Forest menghasilkan sejumlah besar pohon independen secara paralel, sementara XGBoost menghasilkan pohon secara berurutan dengan menyesuaikannya dengan kesalahan prediksi sebelumnya. Selain itu, XGBoost juga memiliki teknik regularisasi yang kuat yang membantu mengontrol kompleksitas model dan mencegah overfitting.\n",
    "\n",
    "3. Jelaskan apa yang dimaksud dengan Cross Validation !\n",
    "\n",
    "> Cross-validation adalah teknik evaluasi model yang digunakan dalam machine learning untuk mengukur kinerja model secara objektif. Tujuan utama dari cross-validation adalah untuk memperkirakan seberapa baik model akan berkinerja pada data baru yang tidak terlihat. Jadi dilakukan beberapa traning set yang diuji sebagai validasi sebelum akhirnya data test kita uji. Hal ini mengakibatkan tidak adanya data leakage kepada data tes uji kita oleh model sehingga membantu memastikan bahwa model yang dihasilkan mampu mempelajari pola yang benar "
   ]
  },
  {
   "cell_type": "markdown",
   "metadata": {},
   "source": [
    "### MODEL SAVING"
   ]
  },
  {
   "cell_type": "code",
   "execution_count": 68,
   "metadata": {},
   "outputs": [
    {
     "data": {
      "text/plain": [
       "['xgb_best.pkl']"
      ]
     },
     "execution_count": 68,
     "metadata": {},
     "output_type": "execute_result"
    }
   ],
   "source": [
    "joblib.dump(xgb_best, \"xgb_best.pkl\")"
   ]
  },
  {
   "cell_type": "markdown",
   "metadata": {},
   "source": []
  }
 ],
 "metadata": {
  "kernelspec": {
   "display_name": "Python 3",
   "language": "python",
   "name": "python3"
  },
  "language_info": {
   "codemirror_mode": {
    "name": "ipython",
    "version": 3
   },
   "file_extension": ".py",
   "mimetype": "text/x-python",
   "name": "python",
   "nbconvert_exporter": "python",
   "pygments_lexer": "ipython3",
   "version": "3.10.8"
  }
 },
 "nbformat": 4,
 "nbformat_minor": 2
}
